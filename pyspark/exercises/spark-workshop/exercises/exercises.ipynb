{
 "cells": [
  {
   "cell_type": "code",
   "execution_count": 1,
   "metadata": {},
   "outputs": [],
   "source": [
    "from pyspark.sql import SparkSession\n",
    "from pyspark.sql import functions as F"
   ]
  },
  {
   "cell_type": "code",
   "execution_count": 2,
   "metadata": {},
   "outputs": [
    {
     "name": "stdout",
     "output_type": "stream",
     "text": [
      "22/12/06 15:21:50 WARN Utils: Your hostname, karlos-300E5M-300E5L resolves to a loopback address: 127.0.1.1; using 10.0.0.89 instead (on interface wlp2s0)\n",
      "22/12/06 15:21:50 WARN Utils: Set SPARK_LOCAL_IP if you need to bind to another address\n"
     ]
    },
    {
     "name": "stderr",
     "output_type": "stream",
     "text": [
      "Setting default log level to \"WARN\".\n",
      "To adjust logging level use sc.setLogLevel(newLevel). For SparkR, use setLogLevel(newLevel).\n"
     ]
    },
    {
     "name": "stdout",
     "output_type": "stream",
     "text": [
      "22/12/06 15:21:52 WARN NativeCodeLoader: Unable to load native-hadoop library for your platform... using builtin-java classes where applicable\n"
     ]
    },
    {
     "data": {
      "text/html": [
       "\n",
       "            <div>\n",
       "                <p><b>SparkSession - in-memory</b></p>\n",
       "                \n",
       "        <div>\n",
       "            <p><b>SparkContext</b></p>\n",
       "\n",
       "            <p><a href=\"http://karlos-300E5M-300E5L.HotSpot300:4040\">Spark UI</a></p>\n",
       "\n",
       "            <dl>\n",
       "              <dt>Version</dt>\n",
       "                <dd><code>v3.3.1</code></dd>\n",
       "              <dt>Master</dt>\n",
       "                <dd><code>local[*]</code></dd>\n",
       "              <dt>AppName</dt>\n",
       "                <dd><code>spark-workshop exercises</code></dd>\n",
       "            </dl>\n",
       "        </div>\n",
       "        \n",
       "            </div>\n",
       "        "
      ],
      "text/plain": [
       "<pyspark.sql.session.SparkSession at 0x7fa8a4afd250>"
      ]
     },
     "execution_count": 2,
     "metadata": {},
     "output_type": "execute_result"
    }
   ],
   "source": [
    "spark = SparkSession.builder \\\n",
    "    .appName('spark-workshop exercises') \\\n",
    "    .getOrCreate()\n",
    "\n",
    "spark"
   ]
  },
  {
   "cell_type": "markdown",
   "metadata": {},
   "source": [
    "### Spark SQL"
   ]
  },
  {
   "cell_type": "markdown",
   "metadata": {},
   "source": [
    "#### Exercise 15: Finding Most Populated Cities Per Country"
   ]
  },
  {
   "cell_type": "code",
   "execution_count": 12,
   "metadata": {},
   "outputs": [
    {
     "data": {
      "text/plain": [
       "DataFrame[name: string, country: string, population: string]"
      ]
     },
     "execution_count": 12,
     "metadata": {},
     "output_type": "execute_result"
    }
   ],
   "source": [
    "data = spark.read.csv(\n",
    "    './data/spark-sql-15-input.csv',\n",
    "    header=True,\n",
    "    inferSchema=True\n",
    ")\n",
    "\n",
    "data"
   ]
  },
  {
   "cell_type": "code",
   "execution_count": 13,
   "metadata": {},
   "outputs": [
    {
     "name": "stdout",
     "output_type": "stream",
     "text": [
      "+-----------------+-------------+----------+\n",
      "|             name|      country|population|\n",
      "+-----------------+-------------+----------+\n",
      "|           Warsaw|       Poland| 1 764 615|\n",
      "|           Cracow|       Poland|   769 498|\n",
      "|            Paris|       France| 2 206 488|\n",
      "|Villeneuve-Loubet|       France|    15 020|\n",
      "|    Pittsburgh PA|United States|   302 407|\n",
      "|       Chicago IL|United States| 2 716 000|\n",
      "|     Milwaukee WI|United States|   595 351|\n",
      "|          Vilnius|    Lithuania|   580 020|\n",
      "|        Stockholm|       Sweden|   972 647|\n",
      "|         Goteborg|       Sweden|   580 020|\n",
      "+-----------------+-------------+----------+\n",
      "\n"
     ]
    }
   ],
   "source": [
    "data.show()"
   ]
  },
  {
   "cell_type": "code",
   "execution_count": 14,
   "metadata": {},
   "outputs": [
    {
     "data": {
      "text/plain": [
       "DataFrame[name: string, country: string, population: int]"
      ]
     },
     "execution_count": 14,
     "metadata": {},
     "output_type": "execute_result"
    }
   ],
   "source": [
    "# Remove the whitespaces in the values of population and convert\n",
    "# them to int.\n",
    "\n",
    "data = data.withColumn(\n",
    "    'population',\n",
    "    F.regexp_replace('population', r'\\s', '').cast('int')\n",
    ")\n",
    "data"
   ]
  },
  {
   "cell_type": "code",
   "execution_count": 15,
   "metadata": {},
   "outputs": [
    {
     "name": "stdout",
     "output_type": "stream",
     "text": [
      "+-----------------+-------------+----------+\n",
      "|             name|      country|population|\n",
      "+-----------------+-------------+----------+\n",
      "|           Warsaw|       Poland|   1764615|\n",
      "|           Cracow|       Poland|    769498|\n",
      "|            Paris|       France|   2206488|\n",
      "|Villeneuve-Loubet|       France|     15020|\n",
      "|    Pittsburgh PA|United States|    302407|\n",
      "|       Chicago IL|United States|   2716000|\n",
      "|     Milwaukee WI|United States|    595351|\n",
      "|          Vilnius|    Lithuania|    580020|\n",
      "|        Stockholm|       Sweden|    972647|\n",
      "|         Goteborg|       Sweden|    580020|\n",
      "+-----------------+-------------+----------+\n",
      "\n"
     ]
    }
   ],
   "source": [
    "data.show()"
   ]
  },
  {
   "cell_type": "code",
   "execution_count": 22,
   "metadata": {},
   "outputs": [
    {
     "name": "stdout",
     "output_type": "stream",
     "text": [
      "+-------------+--------------+\n",
      "|      country|max_population|\n",
      "+-------------+--------------+\n",
      "|       Sweden|        972647|\n",
      "|       France|       2206488|\n",
      "|United States|       2716000|\n",
      "|    Lithuania|        580020|\n",
      "|       Poland|       1764615|\n",
      "+-------------+--------------+\n",
      "\n"
     ]
    }
   ],
   "source": [
    "max_population_by_country = data.groupBy('country') \\\n",
    "    .agg(F.max('population').alias('max_population'))\n",
    "\n",
    "max_population_by_country.show()"
   ]
  },
  {
   "cell_type": "code",
   "execution_count": 37,
   "metadata": {},
   "outputs": [
    {
     "name": "stdout",
     "output_type": "stream",
     "text": [
      "+----------+----------+-------------+\n",
      "|name      |population|country      |\n",
      "+----------+----------+-------------+\n",
      "|Warsaw    |1764615   |Poland       |\n",
      "|Paris     |2206488   |France       |\n",
      "|Chicago IL|2716000   |United States|\n",
      "|Vilnius   |580020    |Lithuania    |\n",
      "|Stockholm |972647    |Sweden       |\n",
      "+----------+----------+-------------+\n",
      "\n"
     ]
    }
   ],
   "source": [
    "data.join(\n",
    "    max_population_by_country,\n",
    "    (data['country'] == max_population_by_country['country'])\n",
    "    & (data['population'] == max_population_by_country['max_population'])\n",
    ").drop('max_population') \\\n",
    "    .drop(max_population_by_country['country']) \\\n",
    "    .show(truncate=False)"
   ]
  },
  {
   "cell_type": "code",
   "execution_count": 38,
   "metadata": {},
   "outputs": [],
   "source": [
    "spark.stop()"
   ]
  }
 ],
 "metadata": {
  "kernelspec": {
   "display_name": "Python 3.9.15 ('venv': venv)",
   "language": "python",
   "name": "python3"
  },
  "language_info": {
   "codemirror_mode": {
    "name": "ipython",
    "version": 3
   },
   "file_extension": ".py",
   "mimetype": "text/x-python",
   "name": "python",
   "nbconvert_exporter": "python",
   "pygments_lexer": "ipython3",
   "version": "3.9.15"
  },
  "orig_nbformat": 4,
  "vscode": {
   "interpreter": {
    "hash": "c670f1e3c6dae00aae88225bb7246b8f813ed6f89d3f1195848091ec06f6428b"
   }
  }
 },
 "nbformat": 4,
 "nbformat_minor": 2
}
