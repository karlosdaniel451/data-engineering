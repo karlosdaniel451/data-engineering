{
 "cells": [
  {
   "cell_type": "markdown",
   "metadata": {},
   "source": [
    "# Ex2 - Filtering and Sorting Data"
   ]
  },
  {
   "cell_type": "markdown",
   "metadata": {},
   "source": [
    "This time we are going to pull data directly from the internet.\n",
    "\n",
    "### Step 1. Import the necessary libraries"
   ]
  },
  {
   "cell_type": "code",
   "execution_count": 1,
   "metadata": {
    "collapsed": false
   },
   "outputs": [],
   "source": [
    "from pyspark.sql import SparkSession\n",
    "from pyspark.sql import functions as F"
   ]
  },
  {
   "cell_type": "code",
   "execution_count": 2,
   "metadata": {},
   "outputs": [
    {
     "name": "stdout",
     "output_type": "stream",
     "text": [
      "22/12/06 16:25:32 WARN Utils: Your hostname, karlos-300E5M-300E5L resolves to a loopback address: 127.0.1.1; using 10.0.0.89 instead (on interface wlp2s0)\n",
      "22/12/06 16:25:32 WARN Utils: Set SPARK_LOCAL_IP if you need to bind to another address\n"
     ]
    },
    {
     "name": "stderr",
     "output_type": "stream",
     "text": [
      "Setting default log level to \"WARN\".\n",
      "To adjust logging level use sc.setLogLevel(newLevel). For SparkR, use setLogLevel(newLevel).\n"
     ]
    },
    {
     "name": "stdout",
     "output_type": "stream",
     "text": [
      "22/12/06 16:25:34 WARN NativeCodeLoader: Unable to load native-hadoop library for your platform... using builtin-java classes where applicable\n"
     ]
    },
    {
     "data": {
      "text/html": [
       "\n",
       "            <div>\n",
       "                <p><b>SparkSession - in-memory</b></p>\n",
       "                \n",
       "        <div>\n",
       "            <p><b>SparkContext</b></p>\n",
       "\n",
       "            <p><a href=\"http://karlos-300E5M-300E5L.HotSpot300:4040\">Spark UI</a></p>\n",
       "\n",
       "            <dl>\n",
       "              <dt>Version</dt>\n",
       "                <dd><code>v3.3.1</code></dd>\n",
       "              <dt>Master</dt>\n",
       "                <dd><code>local[*]</code></dd>\n",
       "              <dt>AppName</dt>\n",
       "                <dd><code>Based on Pandas Exercises - 1</code></dd>\n",
       "            </dl>\n",
       "        </div>\n",
       "        \n",
       "            </div>\n",
       "        "
      ],
      "text/plain": [
       "<pyspark.sql.session.SparkSession at 0x7f637df58250>"
      ]
     },
     "execution_count": 2,
     "metadata": {},
     "output_type": "execute_result"
    }
   ],
   "source": [
    "spark = SparkSession.builder \\\n",
    "    .appName('Based on Pandas Exercises - 1') \\\n",
    "    .getOrCreate()\n",
    "\n",
    "spark"
   ]
  },
  {
   "cell_type": "markdown",
   "metadata": {},
   "source": [
    "### Step 2. Import the dataset from this [address](https://raw.githubusercontent.com/guipsamora/pandas_exercises/master/02_Filtering_%26_Sorting/Euro12/Euro_2012_stats_TEAM.csv). "
   ]
  },
  {
   "cell_type": "markdown",
   "metadata": {},
   "source": [
    "### Step 3. Assign it to a variable called euro12."
   ]
  },
  {
   "cell_type": "code",
   "execution_count": 11,
   "metadata": {
    "collapsed": false
   },
   "outputs": [
    {
     "data": {
      "text/plain": [
       "DataFrame[Team: string, Goals: int, Shots on target: int, Shots off target: int, Shooting Accuracy: string, % Goals-to-shots: string, Total shots (inc. Blocked): int, Hit Woodwork: int, Penalty goals: int, Penalties not scored: int, Headed goals: int, Passes: int, Passes completed: int, Passing Accuracy: string, Touches: int, Crosses: int, Dribbles: int, Corners Taken: int, Tackles: int, Clearances: int, Interceptions: int, Clearances off line: int, Clean Sheets: int, Blocks: int, Goals conceded: int, Saves made: int, Saves-to-shots ratio: string, Fouls Won: int, Fouls Conceded: int, Offsides: int, Yellow Cards: int, Red Cards: int, Subs on: int, Subs off: int, Players Used: int]"
      ]
     },
     "execution_count": 11,
     "metadata": {},
     "output_type": "execute_result"
    }
   ],
   "source": [
    "euro12 = spark.read.csv(\n",
    "    './Euro_2012_stats_TEAM.csv',\n",
    "    header=True,\n",
    "    inferSchema=True\n",
    ")\n",
    "\n",
    "euro12"
   ]
  },
  {
   "cell_type": "code",
   "execution_count": 14,
   "metadata": {},
   "outputs": [
    {
     "name": "stdout",
     "output_type": "stream",
     "text": [
      "+-------------------+-----+---------------+----------------+-----------------+\n",
      "|               Team|Goals|Shots on target|Shots off target|Shooting Accuracy|\n",
      "+-------------------+-----+---------------+----------------+-----------------+\n",
      "|            Croatia|    4|             13|              12|            51.9%|\n",
      "|     Czech Republic|    4|             13|              18|            41.9%|\n",
      "|            Denmark|    4|             10|              10|            50.0%|\n",
      "|            England|    5|             11|              18|            50.0%|\n",
      "|             France|    3|             22|              24|            37.9%|\n",
      "|            Germany|   10|             32|              32|            47.8%|\n",
      "|             Greece|    5|              8|              18|            30.7%|\n",
      "|              Italy|    6|             34|              45|            43.0%|\n",
      "|        Netherlands|    2|             12|              36|            25.0%|\n",
      "|             Poland|    2|             15|              23|            39.4%|\n",
      "|           Portugal|    6|             22|              42|            34.3%|\n",
      "|Republic of Ireland|    1|              7|              12|            36.8%|\n",
      "|             Russia|    5|              9|              31|            22.5%|\n",
      "|              Spain|   12|             42|              33|            55.9%|\n",
      "|             Sweden|    5|             17|              19|            47.2%|\n",
      "|            Ukraine|    2|              7|              26|            21.2%|\n",
      "+-------------------+-----+---------------+----------------+-----------------+\n",
      "\n"
     ]
    }
   ],
   "source": [
    "euro12.select(euro12.columns[:5]) \\\n",
    "    .show()"
   ]
  },
  {
   "cell_type": "markdown",
   "metadata": {},
   "source": [
    "### Step 4. Select only the Goal column."
   ]
  },
  {
   "cell_type": "code",
   "execution_count": 16,
   "metadata": {
    "collapsed": false
   },
   "outputs": [
    {
     "name": "stdout",
     "output_type": "stream",
     "text": [
      "+-----+\n",
      "|Goals|\n",
      "+-----+\n",
      "|    4|\n",
      "|    4|\n",
      "|    4|\n",
      "|    5|\n",
      "|    3|\n",
      "|   10|\n",
      "|    5|\n",
      "|    6|\n",
      "|    2|\n",
      "|    2|\n",
      "|    6|\n",
      "|    1|\n",
      "|    5|\n",
      "|   12|\n",
      "|    5|\n",
      "|    2|\n",
      "+-----+\n",
      "\n"
     ]
    }
   ],
   "source": [
    "euro12.select('Goals') \\\n",
    "    .show()"
   ]
  },
  {
   "cell_type": "markdown",
   "metadata": {},
   "source": [
    "### Step 5. How many team participated in the Euro2012?"
   ]
  },
  {
   "cell_type": "code",
   "execution_count": 17,
   "metadata": {
    "collapsed": false
   },
   "outputs": [
    {
     "data": {
      "text/plain": [
       "16"
      ]
     },
     "execution_count": 17,
     "metadata": {},
     "output_type": "execute_result"
    }
   ],
   "source": [
    "euro12.count()"
   ]
  },
  {
   "cell_type": "markdown",
   "metadata": {},
   "source": [
    "### Step 6. What is the number of columns in the dataset?"
   ]
  },
  {
   "cell_type": "code",
   "execution_count": 19,
   "metadata": {
    "collapsed": false
   },
   "outputs": [
    {
     "data": {
      "text/plain": [
       "35"
      ]
     },
     "execution_count": 19,
     "metadata": {},
     "output_type": "execute_result"
    }
   ],
   "source": [
    "len(euro12.columns)"
   ]
  },
  {
   "cell_type": "markdown",
   "metadata": {},
   "source": [
    "### Step 7. View only the columns Team, Yellow Cards and Red Cards and assign them to a dataframe called discipline"
   ]
  },
  {
   "cell_type": "code",
   "execution_count": 22,
   "metadata": {
    "collapsed": false
   },
   "outputs": [
    {
     "data": {
      "text/plain": [
       "DataFrame[Team: string, Yellow Cards: int, Red Cards: int]"
      ]
     },
     "execution_count": 22,
     "metadata": {},
     "output_type": "execute_result"
    }
   ],
   "source": [
    "discipline = euro12.select('Team', 'Yellow Cards', 'Red Cards')\n",
    "discipline"
   ]
  },
  {
   "cell_type": "markdown",
   "metadata": {},
   "source": [
    "### Step 8. Sort the teams by Red Cards, then to Yellow Cards"
   ]
  },
  {
   "cell_type": "code",
   "execution_count": 25,
   "metadata": {},
   "outputs": [
    {
     "name": "stdout",
     "output_type": "stream",
     "text": [
      "+-------------------+------------+---------+\n",
      "|               Team|Yellow Cards|Red Cards|\n",
      "+-------------------+------------+---------+\n",
      "|            Denmark|           4|        0|\n",
      "|            Germany|           4|        0|\n",
      "|        Netherlands|           5|        0|\n",
      "|            Ukraine|           5|        0|\n",
      "|            England|           5|        0|\n",
      "|             France|           6|        0|\n",
      "|             Russia|           6|        0|\n",
      "|     Czech Republic|           7|        0|\n",
      "|             Sweden|           7|        0|\n",
      "|            Croatia|           9|        0|\n",
      "|              Spain|          11|        0|\n",
      "|           Portugal|          12|        0|\n",
      "|              Italy|          16|        0|\n",
      "|Republic of Ireland|           6|        1|\n",
      "|             Poland|           7|        1|\n",
      "|             Greece|           9|        1|\n",
      "+-------------------+------------+---------+\n",
      "\n"
     ]
    }
   ],
   "source": [
    "discipline.orderBy('Red Cards', 'Yellow Cards') \\\n",
    "    .show()"
   ]
  },
  {
   "cell_type": "markdown",
   "metadata": {},
   "source": [
    "### Step 9. Calculate the mean Yellow Cards given per Team"
   ]
  },
  {
   "cell_type": "code",
   "execution_count": 29,
   "metadata": {
    "collapsed": false
   },
   "outputs": [
    {
     "name": "stdout",
     "output_type": "stream",
     "text": [
      "+-----------------+\n",
      "|avg(Yellow Cards)|\n",
      "+-----------------+\n",
      "|           7.4375|\n",
      "+-----------------+\n",
      "\n"
     ]
    }
   ],
   "source": [
    "discipline.select(F.avg('Yellow Cards')).show()"
   ]
  },
  {
   "cell_type": "markdown",
   "metadata": {},
   "source": [
    "### Step 10. Filter teams that scored more than 6 goals"
   ]
  },
  {
   "cell_type": "code",
   "execution_count": 31,
   "metadata": {
    "collapsed": false
   },
   "outputs": [
    {
     "name": "stdout",
     "output_type": "stream",
     "text": [
      "+-------+-----+\n",
      "|   Team|Goals|\n",
      "+-------+-----+\n",
      "|Germany|   10|\n",
      "|  Spain|   12|\n",
      "+-------+-----+\n",
      "\n"
     ]
    }
   ],
   "source": [
    "euro12.select('Team', 'Goals') \\\n",
    "    .where(F.col('Goals') > 6) \\\n",
    "    .show()"
   ]
  },
  {
   "cell_type": "markdown",
   "metadata": {},
   "source": [
    "### Step 11. Select the teams that start with G"
   ]
  },
  {
   "cell_type": "code",
   "execution_count": 33,
   "metadata": {
    "collapsed": false
   },
   "outputs": [
    {
     "name": "stdout",
     "output_type": "stream",
     "text": [
      "+-------+\n",
      "|   Team|\n",
      "+-------+\n",
      "|Germany|\n",
      "| Greece|\n",
      "+-------+\n",
      "\n"
     ]
    }
   ],
   "source": [
    "euro12.select('Team') \\\n",
    "    .where(F.col('Team').startswith('G')) \\\n",
    "    .show()"
   ]
  },
  {
   "cell_type": "markdown",
   "metadata": {},
   "source": [
    "### Step 12. Select the first 7 columns"
   ]
  },
  {
   "cell_type": "code",
   "execution_count": 37,
   "metadata": {
    "collapsed": false
   },
   "outputs": [
    {
     "ename": "AnalysisException",
     "evalue": "Column '`Total shots (inc`.` Blocked)`' does not exist. Did you mean one of the following? [Total shots (inc. Blocked), Goals conceded, Penalties not scored, Fouls Conceded, Passes completed, Shots on target, Passing Accuracy, Shooting Accuracy, Shots off target, Clearances off line, % Goals-to-shots, Blocks, Corners Taken, Fouls Won, Hit Woodwork, Penalty goals, Players Used, Saves-to-shots ratio, Tackles, Clean Sheets, Clearances, Crosses, Goals, Interceptions, Passes, Saves made, Touches, Yellow Cards, Dribbles, Headed goals, Offsides, Subs off, Subs on, Red Cards, Team];\n'Project [Team#543, Goals#544, Shots on target#545, Shots off target#546, Shooting Accuracy#547, % Goals-to-shots#548, 'Total shots (inc. Blocked)]\n+- Relation [Team#543,Goals#544,Shots on target#545,Shots off target#546,Shooting Accuracy#547,% Goals-to-shots#548,Total shots (inc. Blocked)#549,Hit Woodwork#550,Penalty goals#551,Penalties not scored#552,Headed goals#553,Passes#554,Passes completed#555,Passing Accuracy#556,Touches#557,Crosses#558,Dribbles#559,Corners Taken#560,Tackles#561,Clearances#562,Interceptions#563,Clearances off line#564,Clean Sheets#565,Blocks#566,... 11 more fields] csv\n",
     "output_type": "error",
     "traceback": [
      "\u001b[0;31m---------------------------------------------------------------------------\u001b[0m",
      "\u001b[0;31mAnalysisException\u001b[0m                         Traceback (most recent call last)",
      "Cell \u001b[0;32mIn [37], line 3\u001b[0m\n\u001b[1;32m      1\u001b[0m \u001b[39m# euro12.iloc[:, :7]\u001b[39;00m\n\u001b[0;32m----> 3\u001b[0m euro12\u001b[39m.\u001b[39;49mselect(\u001b[39m*\u001b[39;49meuro12\u001b[39m.\u001b[39;49mcolumns[:\u001b[39m7\u001b[39;49m])\n",
      "File \u001b[0;32m~/Desktop/studies/data-engineering-and-analysis/data-engineering/pyspark/venv/lib/python3.9/site-packages/pyspark/sql/dataframe.py:2023\u001b[0m, in \u001b[0;36mDataFrame.select\u001b[0;34m(self, *cols)\u001b[0m\n\u001b[1;32m   2002\u001b[0m \u001b[39mdef\u001b[39;00m \u001b[39mselect\u001b[39m(\u001b[39mself\u001b[39m, \u001b[39m*\u001b[39mcols: \u001b[39m\"\u001b[39m\u001b[39mColumnOrName\u001b[39m\u001b[39m\"\u001b[39m) \u001b[39m-\u001b[39m\u001b[39m>\u001b[39m \u001b[39m\"\u001b[39m\u001b[39mDataFrame\u001b[39m\u001b[39m\"\u001b[39m:  \u001b[39m# type: ignore[misc]\u001b[39;00m\n\u001b[1;32m   2003\u001b[0m     \u001b[39m\"\"\"Projects a set of expressions and returns a new :class:`DataFrame`.\u001b[39;00m\n\u001b[1;32m   2004\u001b[0m \n\u001b[1;32m   2005\u001b[0m \u001b[39m    .. versionadded:: 1.3.0\u001b[39;00m\n\u001b[0;32m   (...)\u001b[0m\n\u001b[1;32m   2021\u001b[0m \u001b[39m    [Row(name='Alice', age=12), Row(name='Bob', age=15)]\u001b[39;00m\n\u001b[1;32m   2022\u001b[0m \u001b[39m    \"\"\"\u001b[39;00m\n\u001b[0;32m-> 2023\u001b[0m     jdf \u001b[39m=\u001b[39m \u001b[39mself\u001b[39;49m\u001b[39m.\u001b[39;49m_jdf\u001b[39m.\u001b[39;49mselect(\u001b[39mself\u001b[39;49m\u001b[39m.\u001b[39;49m_jcols(\u001b[39m*\u001b[39;49mcols))\n\u001b[1;32m   2024\u001b[0m     \u001b[39mreturn\u001b[39;00m DataFrame(jdf, \u001b[39mself\u001b[39m\u001b[39m.\u001b[39msparkSession)\n",
      "File \u001b[0;32m~/Desktop/studies/data-engineering-and-analysis/data-engineering/pyspark/venv/lib/python3.9/site-packages/py4j/java_gateway.py:1321\u001b[0m, in \u001b[0;36mJavaMember.__call__\u001b[0;34m(self, *args)\u001b[0m\n\u001b[1;32m   1315\u001b[0m command \u001b[39m=\u001b[39m proto\u001b[39m.\u001b[39mCALL_COMMAND_NAME \u001b[39m+\u001b[39m\\\n\u001b[1;32m   1316\u001b[0m     \u001b[39mself\u001b[39m\u001b[39m.\u001b[39mcommand_header \u001b[39m+\u001b[39m\\\n\u001b[1;32m   1317\u001b[0m     args_command \u001b[39m+\u001b[39m\\\n\u001b[1;32m   1318\u001b[0m     proto\u001b[39m.\u001b[39mEND_COMMAND_PART\n\u001b[1;32m   1320\u001b[0m answer \u001b[39m=\u001b[39m \u001b[39mself\u001b[39m\u001b[39m.\u001b[39mgateway_client\u001b[39m.\u001b[39msend_command(command)\n\u001b[0;32m-> 1321\u001b[0m return_value \u001b[39m=\u001b[39m get_return_value(\n\u001b[1;32m   1322\u001b[0m     answer, \u001b[39mself\u001b[39;49m\u001b[39m.\u001b[39;49mgateway_client, \u001b[39mself\u001b[39;49m\u001b[39m.\u001b[39;49mtarget_id, \u001b[39mself\u001b[39;49m\u001b[39m.\u001b[39;49mname)\n\u001b[1;32m   1324\u001b[0m \u001b[39mfor\u001b[39;00m temp_arg \u001b[39min\u001b[39;00m temp_args:\n\u001b[1;32m   1325\u001b[0m     temp_arg\u001b[39m.\u001b[39m_detach()\n",
      "File \u001b[0;32m~/Desktop/studies/data-engineering-and-analysis/data-engineering/pyspark/venv/lib/python3.9/site-packages/pyspark/sql/utils.py:196\u001b[0m, in \u001b[0;36mcapture_sql_exception.<locals>.deco\u001b[0;34m(*a, **kw)\u001b[0m\n\u001b[1;32m    192\u001b[0m converted \u001b[39m=\u001b[39m convert_exception(e\u001b[39m.\u001b[39mjava_exception)\n\u001b[1;32m    193\u001b[0m \u001b[39mif\u001b[39;00m \u001b[39mnot\u001b[39;00m \u001b[39misinstance\u001b[39m(converted, UnknownException):\n\u001b[1;32m    194\u001b[0m     \u001b[39m# Hide where the exception came from that shows a non-Pythonic\u001b[39;00m\n\u001b[1;32m    195\u001b[0m     \u001b[39m# JVM exception message.\u001b[39;00m\n\u001b[0;32m--> 196\u001b[0m     \u001b[39mraise\u001b[39;00m converted \u001b[39mfrom\u001b[39;00m \u001b[39mNone\u001b[39m\n\u001b[1;32m    197\u001b[0m \u001b[39melse\u001b[39;00m:\n\u001b[1;32m    198\u001b[0m     \u001b[39mraise\u001b[39;00m\n",
      "\u001b[0;31mAnalysisException\u001b[0m: Column '`Total shots (inc`.` Blocked)`' does not exist. Did you mean one of the following? [Total shots (inc. Blocked), Goals conceded, Penalties not scored, Fouls Conceded, Passes completed, Shots on target, Passing Accuracy, Shooting Accuracy, Shots off target, Clearances off line, % Goals-to-shots, Blocks, Corners Taken, Fouls Won, Hit Woodwork, Penalty goals, Players Used, Saves-to-shots ratio, Tackles, Clean Sheets, Clearances, Crosses, Goals, Interceptions, Passes, Saves made, Touches, Yellow Cards, Dribbles, Headed goals, Offsides, Subs off, Subs on, Red Cards, Team];\n'Project [Team#543, Goals#544, Shots on target#545, Shots off target#546, Shooting Accuracy#547, % Goals-to-shots#548, 'Total shots (inc. Blocked)]\n+- Relation [Team#543,Goals#544,Shots on target#545,Shots off target#546,Shooting Accuracy#547,% Goals-to-shots#548,Total shots (inc. Blocked)#549,Hit Woodwork#550,Penalty goals#551,Penalties not scored#552,Headed goals#553,Passes#554,Passes completed#555,Passing Accuracy#556,Touches#557,Crosses#558,Dribbles#559,Corners Taken#560,Tackles#561,Clearances#562,Interceptions#563,Clearances off line#564,Clean Sheets#565,Blocks#566,... 11 more fields] csv\n"
     ]
    }
   ],
   "source": [
    "# euro12.iloc[:, :7]\n",
    "\n",
    "euro12.select(*euro12.columns[:7])"
   ]
  },
  {
   "cell_type": "markdown",
   "metadata": {},
   "source": [
    "### Step 13. Select all columns except the last 3."
   ]
  },
  {
   "cell_type": "code",
   "execution_count": 38,
   "metadata": {
    "collapsed": false
   },
   "outputs": [
    {
     "ename": "AnalysisException",
     "evalue": "Column '`Total shots (inc`.` Blocked)`' does not exist. Did you mean one of the following? [Total shots (inc. Blocked), Goals conceded, Penalties not scored, Fouls Conceded, Passes completed, Shots on target, Passing Accuracy, Shooting Accuracy, Shots off target, Clearances off line, % Goals-to-shots, Blocks, Corners Taken, Fouls Won, Hit Woodwork, Penalty goals, Players Used, Saves-to-shots ratio, Tackles, Clean Sheets, Clearances, Crosses, Goals, Interceptions, Passes, Saves made, Touches, Yellow Cards, Dribbles, Headed goals, Offsides, Subs off, Subs on, Red Cards, Team];\n'Project [Team#543, Goals#544, Shots on target#545, Shots off target#546, Shooting Accuracy#547, % Goals-to-shots#548, 'Total shots (inc. Blocked), Hit Woodwork#550, Penalty goals#551, Penalties not scored#552, Headed goals#553, Passes#554, Passes completed#555, Passing Accuracy#556, Touches#557, Crosses#558, Dribbles#559, Corners Taken#560, Tackles#561, Clearances#562, Interceptions#563, Clearances off line#564, Clean Sheets#565, Blocks#566, ... 8 more fields]\n+- Relation [Team#543,Goals#544,Shots on target#545,Shots off target#546,Shooting Accuracy#547,% Goals-to-shots#548,Total shots (inc. Blocked)#549,Hit Woodwork#550,Penalty goals#551,Penalties not scored#552,Headed goals#553,Passes#554,Passes completed#555,Passing Accuracy#556,Touches#557,Crosses#558,Dribbles#559,Corners Taken#560,Tackles#561,Clearances#562,Interceptions#563,Clearances off line#564,Clean Sheets#565,Blocks#566,... 11 more fields] csv\n",
     "output_type": "error",
     "traceback": [
      "\u001b[0;31m---------------------------------------------------------------------------\u001b[0m",
      "\u001b[0;31mAnalysisException\u001b[0m                         Traceback (most recent call last)",
      "Cell \u001b[0;32mIn [38], line 3\u001b[0m\n\u001b[1;32m      1\u001b[0m \u001b[39m# euro12.iloc[:, :-3]\u001b[39;00m\n\u001b[0;32m----> 3\u001b[0m euro12\u001b[39m.\u001b[39;49mselect(\u001b[39m*\u001b[39;49meuro12\u001b[39m.\u001b[39;49mcolumns[:\u001b[39m-\u001b[39;49m\u001b[39m3\u001b[39;49m])\n",
      "File \u001b[0;32m~/Desktop/studies/data-engineering-and-analysis/data-engineering/pyspark/venv/lib/python3.9/site-packages/pyspark/sql/dataframe.py:2023\u001b[0m, in \u001b[0;36mDataFrame.select\u001b[0;34m(self, *cols)\u001b[0m\n\u001b[1;32m   2002\u001b[0m \u001b[39mdef\u001b[39;00m \u001b[39mselect\u001b[39m(\u001b[39mself\u001b[39m, \u001b[39m*\u001b[39mcols: \u001b[39m\"\u001b[39m\u001b[39mColumnOrName\u001b[39m\u001b[39m\"\u001b[39m) \u001b[39m-\u001b[39m\u001b[39m>\u001b[39m \u001b[39m\"\u001b[39m\u001b[39mDataFrame\u001b[39m\u001b[39m\"\u001b[39m:  \u001b[39m# type: ignore[misc]\u001b[39;00m\n\u001b[1;32m   2003\u001b[0m     \u001b[39m\"\"\"Projects a set of expressions and returns a new :class:`DataFrame`.\u001b[39;00m\n\u001b[1;32m   2004\u001b[0m \n\u001b[1;32m   2005\u001b[0m \u001b[39m    .. versionadded:: 1.3.0\u001b[39;00m\n\u001b[0;32m   (...)\u001b[0m\n\u001b[1;32m   2021\u001b[0m \u001b[39m    [Row(name='Alice', age=12), Row(name='Bob', age=15)]\u001b[39;00m\n\u001b[1;32m   2022\u001b[0m \u001b[39m    \"\"\"\u001b[39;00m\n\u001b[0;32m-> 2023\u001b[0m     jdf \u001b[39m=\u001b[39m \u001b[39mself\u001b[39;49m\u001b[39m.\u001b[39;49m_jdf\u001b[39m.\u001b[39;49mselect(\u001b[39mself\u001b[39;49m\u001b[39m.\u001b[39;49m_jcols(\u001b[39m*\u001b[39;49mcols))\n\u001b[1;32m   2024\u001b[0m     \u001b[39mreturn\u001b[39;00m DataFrame(jdf, \u001b[39mself\u001b[39m\u001b[39m.\u001b[39msparkSession)\n",
      "File \u001b[0;32m~/Desktop/studies/data-engineering-and-analysis/data-engineering/pyspark/venv/lib/python3.9/site-packages/py4j/java_gateway.py:1321\u001b[0m, in \u001b[0;36mJavaMember.__call__\u001b[0;34m(self, *args)\u001b[0m\n\u001b[1;32m   1315\u001b[0m command \u001b[39m=\u001b[39m proto\u001b[39m.\u001b[39mCALL_COMMAND_NAME \u001b[39m+\u001b[39m\\\n\u001b[1;32m   1316\u001b[0m     \u001b[39mself\u001b[39m\u001b[39m.\u001b[39mcommand_header \u001b[39m+\u001b[39m\\\n\u001b[1;32m   1317\u001b[0m     args_command \u001b[39m+\u001b[39m\\\n\u001b[1;32m   1318\u001b[0m     proto\u001b[39m.\u001b[39mEND_COMMAND_PART\n\u001b[1;32m   1320\u001b[0m answer \u001b[39m=\u001b[39m \u001b[39mself\u001b[39m\u001b[39m.\u001b[39mgateway_client\u001b[39m.\u001b[39msend_command(command)\n\u001b[0;32m-> 1321\u001b[0m return_value \u001b[39m=\u001b[39m get_return_value(\n\u001b[1;32m   1322\u001b[0m     answer, \u001b[39mself\u001b[39;49m\u001b[39m.\u001b[39;49mgateway_client, \u001b[39mself\u001b[39;49m\u001b[39m.\u001b[39;49mtarget_id, \u001b[39mself\u001b[39;49m\u001b[39m.\u001b[39;49mname)\n\u001b[1;32m   1324\u001b[0m \u001b[39mfor\u001b[39;00m temp_arg \u001b[39min\u001b[39;00m temp_args:\n\u001b[1;32m   1325\u001b[0m     temp_arg\u001b[39m.\u001b[39m_detach()\n",
      "File \u001b[0;32m~/Desktop/studies/data-engineering-and-analysis/data-engineering/pyspark/venv/lib/python3.9/site-packages/pyspark/sql/utils.py:196\u001b[0m, in \u001b[0;36mcapture_sql_exception.<locals>.deco\u001b[0;34m(*a, **kw)\u001b[0m\n\u001b[1;32m    192\u001b[0m converted \u001b[39m=\u001b[39m convert_exception(e\u001b[39m.\u001b[39mjava_exception)\n\u001b[1;32m    193\u001b[0m \u001b[39mif\u001b[39;00m \u001b[39mnot\u001b[39;00m \u001b[39misinstance\u001b[39m(converted, UnknownException):\n\u001b[1;32m    194\u001b[0m     \u001b[39m# Hide where the exception came from that shows a non-Pythonic\u001b[39;00m\n\u001b[1;32m    195\u001b[0m     \u001b[39m# JVM exception message.\u001b[39;00m\n\u001b[0;32m--> 196\u001b[0m     \u001b[39mraise\u001b[39;00m converted \u001b[39mfrom\u001b[39;00m \u001b[39mNone\u001b[39m\n\u001b[1;32m    197\u001b[0m \u001b[39melse\u001b[39;00m:\n\u001b[1;32m    198\u001b[0m     \u001b[39mraise\u001b[39;00m\n",
      "\u001b[0;31mAnalysisException\u001b[0m: Column '`Total shots (inc`.` Blocked)`' does not exist. Did you mean one of the following? [Total shots (inc. Blocked), Goals conceded, Penalties not scored, Fouls Conceded, Passes completed, Shots on target, Passing Accuracy, Shooting Accuracy, Shots off target, Clearances off line, % Goals-to-shots, Blocks, Corners Taken, Fouls Won, Hit Woodwork, Penalty goals, Players Used, Saves-to-shots ratio, Tackles, Clean Sheets, Clearances, Crosses, Goals, Interceptions, Passes, Saves made, Touches, Yellow Cards, Dribbles, Headed goals, Offsides, Subs off, Subs on, Red Cards, Team];\n'Project [Team#543, Goals#544, Shots on target#545, Shots off target#546, Shooting Accuracy#547, % Goals-to-shots#548, 'Total shots (inc. Blocked), Hit Woodwork#550, Penalty goals#551, Penalties not scored#552, Headed goals#553, Passes#554, Passes completed#555, Passing Accuracy#556, Touches#557, Crosses#558, Dribbles#559, Corners Taken#560, Tackles#561, Clearances#562, Interceptions#563, Clearances off line#564, Clean Sheets#565, Blocks#566, ... 8 more fields]\n+- Relation [Team#543,Goals#544,Shots on target#545,Shots off target#546,Shooting Accuracy#547,% Goals-to-shots#548,Total shots (inc. Blocked)#549,Hit Woodwork#550,Penalty goals#551,Penalties not scored#552,Headed goals#553,Passes#554,Passes completed#555,Passing Accuracy#556,Touches#557,Crosses#558,Dribbles#559,Corners Taken#560,Tackles#561,Clearances#562,Interceptions#563,Clearances off line#564,Clean Sheets#565,Blocks#566,... 11 more fields] csv\n"
     ]
    }
   ],
   "source": [
    "# euro12.iloc[:, :-3]\n",
    "\n",
    "euro12.select(*euro12.columns[:-3])"
   ]
  },
  {
   "cell_type": "markdown",
   "metadata": {},
   "source": [
    "### Step 14. Present only the Shooting Accuracy from England, Italy and Russia"
   ]
  },
  {
   "cell_type": "code",
   "execution_count": 40,
   "metadata": {
    "collapsed": false
   },
   "outputs": [
    {
     "name": "stdout",
     "output_type": "stream",
     "text": [
      "+-------+-----------------+\n",
      "|   Team|Shooting Accuracy|\n",
      "+-------+-----------------+\n",
      "|England|            50.0%|\n",
      "|  Italy|            43.0%|\n",
      "| Russia|            22.5%|\n",
      "+-------+-----------------+\n",
      "\n"
     ]
    }
   ],
   "source": [
    "# teams = ['England', 'Italy', 'Russia']\n",
    "\n",
    "# # Alternative: euro12[euro12['Team'].isin(teams)][['Team', 'Shooting Accuracy']]\n",
    "# euro12.loc[euro12['Team'].isin(teams), ['Team', 'Shooting Accuracy']]\n",
    "\n",
    "teams = ['England', 'Italy', 'Russia']\n",
    "\n",
    "euro12.select('Team','Shooting Accuracy') \\\n",
    "    .where(F.col('Team').isin(teams)) \\\n",
    "    .show()"
   ]
  }
 ],
 "metadata": {
  "anaconda-cloud": {},
  "kernelspec": {
   "display_name": "Python 3.9.15 ('venv': venv)",
   "language": "python",
   "name": "python3"
  },
  "language_info": {
   "codemirror_mode": {
    "name": "ipython",
    "version": 3
   },
   "file_extension": ".py",
   "mimetype": "text/x-python",
   "name": "python",
   "nbconvert_exporter": "python",
   "pygments_lexer": "ipython3",
   "version": "3.9.15"
  },
  "vscode": {
   "interpreter": {
    "hash": "c670f1e3c6dae00aae88225bb7246b8f813ed6f89d3f1195848091ec06f6428b"
   }
  }
 },
 "nbformat": 4,
 "nbformat_minor": 0
}
