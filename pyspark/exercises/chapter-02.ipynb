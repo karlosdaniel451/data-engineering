{
 "cells": [
  {
   "cell_type": "code",
   "execution_count": 5,
   "id": "f413a6b0-e247-4fde-a427-d072e46a8704",
   "metadata": {},
   "outputs": [],
   "source": [
    "from pyspark.sql import SparkSession\n",
    "from pyspark.sql import functions as F"
   ]
  },
  {
   "cell_type": "code",
   "execution_count": 6,
   "id": "824dd823-3299-459e-a7c3-1ff9f7e083e1",
   "metadata": {},
   "outputs": [
    {
     "name": "stdout",
     "output_type": "stream",
     "text": [
      "22/11/26 21:13:14 WARN Utils: Service 'SparkUI' could not bind on port 4040. Attempting port 4041.\n"
     ]
    },
    {
     "data": {
      "text/html": [
       "\n",
       "            <div>\n",
       "                <p><b>SparkSession - in-memory</b></p>\n",
       "                \n",
       "        <div>\n",
       "            <p><b>SparkContext</b></p>\n",
       "\n",
       "            <p><a href=\"http://192.168.10.22:4041\">Spark UI</a></p>\n",
       "\n",
       "            <dl>\n",
       "              <dt>Version</dt>\n",
       "                <dd><code>v3.3.1</code></dd>\n",
       "              <dt>Master</dt>\n",
       "                <dd><code>local[*]</code></dd>\n",
       "              <dt>AppName</dt>\n",
       "                <dd><code>PySpark Exercises Chapter 02</code></dd>\n",
       "            </dl>\n",
       "        </div>\n",
       "        \n",
       "            </div>\n",
       "        "
      ],
      "text/plain": [
       "<pyspark.sql.session.SparkSession at 0x7f744438bf10>"
      ]
     },
     "execution_count": 6,
     "metadata": {},
     "output_type": "execute_result"
    }
   ],
   "source": [
    "spark = SparkSession.builder \\\n",
    "    .appName('PySpark Exercises Chapter 02') \\\n",
    "    .getOrCreate()\n",
    "\n",
    "spark"
   ]
  },
  {
   "cell_type": "code",
   "execution_count": 7,
   "id": "2378097b-757b-4a98-8bfb-798e2f8a1988",
   "metadata": {},
   "outputs": [
    {
     "name": "stdout",
     "output_type": "stream",
     "text": [
      "+------------+\n",
      "|word_cleaned|\n",
      "+------------+\n",
      "|         the|\n",
      "|     project|\n",
      "|   gutenberg|\n",
      "|       ebook|\n",
      "|          of|\n",
      "|       pride|\n",
      "|         and|\n",
      "|   prejudice|\n",
      "|          by|\n",
      "|        jane|\n",
      "|      austen|\n",
      "|        this|\n",
      "|       ebook|\n",
      "|          is|\n",
      "|         for|\n",
      "|         the|\n",
      "|         use|\n",
      "|          of|\n",
      "|      anyone|\n",
      "|    anywhere|\n",
      "+------------+\n",
      "only showing top 20 rows\n",
      "\n"
     ]
    }
   ],
   "source": [
    "words = spark.read.text('./data/gutenberg_books/1342-0.txt') \\\n",
    "    .select(F.split(F.col('value'), ' ').alias('line')) \\\n",
    "    .select(F.explode(F.col('line')).alias('word')) \\\n",
    "    .select(F.lower(F.col('word')).alias('word_lower')) \\\n",
    "    .select(F.regexp_extract(F.col('word_lower'), '[a-z]+', 0).alias('word_cleaned')) \\\n",
    "    .where(F.col('word_cleaned') != '')\n",
    "\n",
    "words.show()"
   ]
  },
  {
   "cell_type": "markdown",
   "id": "86fc095b-2ec5-4434-a469-2f694c24f284",
   "metadata": {
    "tags": []
   },
   "source": [
    "#### Exercise 3.1 Starting with the word_nonull seen in this section, which of the following expressions would return the number of words per letter count (e.g., there are X one-letter words, Y two-letter words, etc.)?"
   ]
  },
  {
   "cell_type": "code",
   "execution_count": 14,
   "id": "bf09c5e6-954e-4fbb-87a1-deecd7cc550e",
   "metadata": {},
   "outputs": [
    {
     "name": "stdout",
     "output_type": "stream",
     "text": [
      "+------+-----+\n",
      "|length|count|\n",
      "+------+-----+\n",
      "|     1| 4116|\n",
      "|     2|23856|\n",
      "|     3|28831|\n",
      "|     4|22213|\n",
      "|     5|11998|\n",
      "|     6| 9276|\n",
      "|     7| 8679|\n",
      "|     8| 5121|\n",
      "|     9| 5165|\n",
      "|    10| 2455|\n",
      "|    11| 1386|\n",
      "|    12|  812|\n",
      "|    13|  393|\n",
      "|    14|  107|\n",
      "|    15|   32|\n",
      "|    16|    5|\n",
      "|    17|    3|\n",
      "+------+-----+\n",
      "\n"
     ]
    }
   ],
   "source": [
    "words.select(F.length(F.col('word_cleaned')).alias('length')) \\\n",
    "    .groupBy('length') \\\n",
    "    .count() \\\n",
    "    .orderBy('length') \\\n",
    "    .show()"
   ]
  },
  {
   "cell_type": "markdown",
   "id": "70098b3c-b6cd-4c3b-9322-3a8002ddd0a1",
   "metadata": {},
   "source": [
    "#### Exercise 3.3"
   ]
  },
  {
   "cell_type": "code",
   "execution_count": null,
   "id": "baf45d97-373a-4a31-a6e7-d2a3ce621b33",
   "metadata": {},
   "outputs": [],
   "source": []
  }
 ],
 "metadata": {
  "kernelspec": {
   "display_name": "Python 3.9.15 ('venv': venv)",
   "language": "python",
   "name": "python3"
  },
  "language_info": {
   "codemirror_mode": {
    "name": "ipython",
    "version": 3
   },
   "file_extension": ".py",
   "mimetype": "text/x-python",
   "name": "python",
   "nbconvert_exporter": "python",
   "pygments_lexer": "ipython3",
   "version": "3.9.15"
  },
  "vscode": {
   "interpreter": {
    "hash": "c670f1e3c6dae00aae88225bb7246b8f813ed6f89d3f1195848091ec06f6428b"
   }
  }
 },
 "nbformat": 4,
 "nbformat_minor": 5
}
