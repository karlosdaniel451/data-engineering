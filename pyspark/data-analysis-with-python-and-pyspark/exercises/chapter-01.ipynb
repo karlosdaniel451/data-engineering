{
 "cells": [
  {
   "cell_type": "code",
   "execution_count": 2,
   "id": "908a7a57-50e9-4d60-a2d0-02c9589a12c8",
   "metadata": {},
   "outputs": [],
   "source": [
    "from pyspark.sql import SparkSession\n",
    "from pyspark.sql import functions as F"
   ]
  },
  {
   "cell_type": "code",
   "execution_count": 8,
   "id": "59cbd017-68a3-4788-a97c-29e4a4cfffac",
   "metadata": {},
   "outputs": [],
   "source": [
    "spark = SparkSession.builder \\\n",
    "    .appName('PySpark Exercises Chapter 01') \\\n",
    "    .getOrCreate()\n",
    "\n",
    "spark"
   ]
  },
  {
   "cell_type": "code",
   "execution_count": 5,
   "id": "6e66372c-f894-48ca-a4cb-c7c3bca394ba",
   "metadata": {},
   "outputs": [
    {
     "name": "stdout",
     "output_type": "stream",
     "text": [
      "+------------+\n",
      "|word_cleaned|\n",
      "+------------+\n",
      "|         the|\n",
      "|     project|\n",
      "|   gutenberg|\n",
      "|       ebook|\n",
      "|          of|\n",
      "|       pride|\n",
      "|         and|\n",
      "|   prejudice|\n",
      "|          by|\n",
      "|        jane|\n",
      "|      austen|\n",
      "|        this|\n",
      "|       ebook|\n",
      "|          is|\n",
      "|         for|\n",
      "|         the|\n",
      "|         use|\n",
      "|          of|\n",
      "|      anyone|\n",
      "|    anywhere|\n",
      "+------------+\n",
      "only showing top 20 rows\n",
      "\n"
     ]
    }
   ],
   "source": [
    "words = spark.read.text('./data/gutenberg_books/1342-0.txt') \\\n",
    "    .select(F.split(F.col('value'), ' ').alias('line')) \\\n",
    "    .select(F.explode(F.col('line')).alias('word')) \\\n",
    "    .select(F.lower(F.col('word')).alias('word_lower')) \\\n",
    "    .select(F.regexp_extract(F.col('word_lower'), '[a-z]+', 0).alias('word_cleaned')) \\\n",
    "    .where(F.col('word_cleaned') != '')\n",
    "\n",
    "words.show()"
   ]
  },
  {
   "cell_type": "markdown",
   "id": "55a1fd58-aedf-4fe4-b539-438c618dbec2",
   "metadata": {},
   "source": [
    "#### Exercise 2.5. a) Remove all of the occurrences of the word is."
   ]
  },
  {
   "cell_type": "code",
   "execution_count": 52,
   "id": "620172ba-6bf2-4e8e-a10d-46ae54250339",
   "metadata": {},
   "outputs": [
    {
     "data": {
      "text/plain": [
       "884"
      ]
     },
     "execution_count": 52,
     "metadata": {},
     "output_type": "execute_result"
    }
   ],
   "source": [
    "words.where(F.col('word_cleaned') == 'is').count()"
   ]
  },
  {
   "cell_type": "code",
   "execution_count": 53,
   "id": "269f0075-4417-4769-b853-02d028c52952",
   "metadata": {},
   "outputs": [
    {
     "data": {
      "text/plain": [
       "0"
      ]
     },
     "execution_count": 53,
     "metadata": {},
     "output_type": "execute_result"
    }
   ],
   "source": [
    "words_non_is = words.where(F.col('word_cleaned') != 'is')\n",
    "\n",
    "words_non_is.where(F.col('word_cleaned') == 'is').count()"
   ]
  },
  {
   "cell_type": "markdown",
   "id": "07f54852-ab23-4024-ab2e-8e756612940c",
   "metadata": {},
   "source": [
    "#### Exercise 2.5. b) (Challenge) Using the length function, keep only the words with more than three characters."
   ]
  },
  {
   "cell_type": "code",
   "execution_count": 54,
   "id": "97210e00-8cc1-4dda-a57b-129d4a0b73c6",
   "metadata": {},
   "outputs": [
    {
     "name": "stdout",
     "output_type": "stream",
     "text": [
      "+------------+\n",
      "|word_cleaned|\n",
      "+------------+\n",
      "|     project|\n",
      "|   gutenberg|\n",
      "|       ebook|\n",
      "|       pride|\n",
      "|   prejudice|\n",
      "|        jane|\n",
      "|      austen|\n",
      "|        this|\n",
      "|       ebook|\n",
      "|      anyone|\n",
      "|    anywhere|\n",
      "|        cost|\n",
      "|        with|\n",
      "|      almost|\n",
      "|restrictions|\n",
      "|  whatsoever|\n",
      "|        copy|\n",
      "|        give|\n",
      "|        away|\n",
      "|       under|\n",
      "+------------+\n",
      "only showing top 20 rows\n",
      "\n"
     ]
    }
   ],
   "source": [
    "words.where(F.length(F.col('word_cleaned')) > 3).show()"
   ]
  },
  {
   "cell_type": "markdown",
   "id": "439357a4-7aed-4f71-9716-ebd169e3575a",
   "metadata": {},
   "source": [
    "#### Exercise 2.6 Let’s say you want to remove the words is , not , the and if from your list of words, using a single where() method on the words_nonull data frame. Write the code to do so."
   ]
  },
  {
   "cell_type": "code",
   "execution_count": 55,
   "id": "b348ab37-1c56-471d-9a3a-6bbff0a0b8f3",
   "metadata": {},
   "outputs": [
    {
     "data": {
      "text/plain": [
       "7192"
      ]
     },
     "execution_count": 55,
     "metadata": {},
     "output_type": "execute_result"
    }
   ],
   "source": [
    "words_to_be_removed = ['is', 'not', 'the', 'if']\n",
    "\n",
    "words.where(F.col('word_cleaned').isin(words_to_be_removed)).count()"
   ]
  },
  {
   "cell_type": "code",
   "execution_count": 56,
   "id": "729c57f6-99f3-4bed-8aca-dd6a13fffc29",
   "metadata": {},
   "outputs": [
    {
     "data": {
      "text/plain": [
       "0"
      ]
     },
     "execution_count": 56,
     "metadata": {},
     "output_type": "execute_result"
    }
   ],
   "source": [
    "words_2_6 = words.where(~F.col('word_cleaned').isin(words_to_be_removed))\n",
    "\n",
    "words_2_6.where(F.col('word_cleaned').isin(words_to_be_removed)).count()"
   ]
  }
 ],
 "metadata": {
  "kernelspec": {
   "display_name": "Python 3 (ipykernel)",
   "language": "python",
   "name": "python3"
  },
  "language_info": {
   "codemirror_mode": {
    "name": "ipython",
    "version": 3
   },
   "file_extension": ".py",
   "mimetype": "text/x-python",
   "name": "python",
   "nbconvert_exporter": "python",
   "pygments_lexer": "ipython3",
   "version": "3.9.15"
  }
 },
 "nbformat": 4,
 "nbformat_minor": 5
}
