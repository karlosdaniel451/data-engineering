{
 "cells": [
  {
   "cell_type": "code",
   "execution_count": 1,
   "id": "34d92b46-c752-4017-b0e5-2f5a0df492e9",
   "metadata": {},
   "outputs": [],
   "source": [
    "from pyspark.sql import SparkSession\n",
    "from pyspark.sql import functions as F"
   ]
  },
  {
   "cell_type": "code",
   "execution_count": 3,
   "id": "65a21a51-4f14-4272-8fbe-ec080ea8a8e4",
   "metadata": {},
   "outputs": [
    {
     "name": "stdout",
     "output_type": "stream",
     "text": [
      "22/11/27 12:26:31 WARN Utils: Your hostname, karlos-300E5M-300E5L resolves to a loopback address: 127.0.1.1; using 192.168.10.22 instead (on interface enp1s0)\n",
      "22/11/27 12:26:31 WARN Utils: Set SPARK_LOCAL_IP if you need to bind to another address\n"
     ]
    },
    {
     "name": "stderr",
     "output_type": "stream",
     "text": [
      "Setting default log level to \"WARN\".\n",
      "To adjust logging level use sc.setLogLevel(newLevel). For SparkR, use setLogLevel(newLevel).\n"
     ]
    },
    {
     "name": "stdout",
     "output_type": "stream",
     "text": [
      "22/11/27 12:26:32 WARN NativeCodeLoader: Unable to load native-hadoop library for your platform... using builtin-java classes where applicable\n",
      "22/11/27 12:26:34 WARN Utils: Service 'SparkUI' could not bind on port 4040. Attempting port 4041.\n",
      "22/11/27 12:26:34 WARN Utils: Service 'SparkUI' could not bind on port 4041. Attempting port 4042.\n"
     ]
    },
    {
     "data": {
      "text/html": [
       "\n",
       "            <div>\n",
       "                <p><b>SparkSession - in-memory</b></p>\n",
       "                \n",
       "        <div>\n",
       "            <p><b>SparkContext</b></p>\n",
       "\n",
       "            <p><a href=\"http://192.168.10.22:4042\">Spark UI</a></p>\n",
       "\n",
       "            <dl>\n",
       "              <dt>Version</dt>\n",
       "                <dd><code>v3.3.1</code></dd>\n",
       "              <dt>Master</dt>\n",
       "                <dd><code>local[*]</code></dd>\n",
       "              <dt>AppName</dt>\n",
       "                <dd><code>PySpark Exercises Chapter 03</code></dd>\n",
       "            </dl>\n",
       "        </div>\n",
       "        \n",
       "            </div>\n",
       "        "
      ],
      "text/plain": [
       "<pyspark.sql.session.SparkSession at 0x7fd029b941f0>"
      ]
     },
     "execution_count": 3,
     "metadata": {},
     "output_type": "execute_result"
    }
   ],
   "source": [
    "spark = SparkSession.builder \\\n",
    "    .appName('PySpark Exercises Chapter 03') \\\n",
    "    .getOrCreate()\n",
    "\n",
    "spark"
   ]
  },
  {
   "cell_type": "markdown",
   "id": "940b1aaa-c1b6-49f1-97be-9906fca318b7",
   "metadata": {},
   "source": [
    "#### Exercise 3.3 1 By modifying the word_count_submit.py program, return the number of distinct words in Jane Austen’s Pride and Prejudice. (Hint: results contains one record for each unique word.)"
   ]
  },
  {
   "cell_type": "code",
   "execution_count": 6,
   "id": "b4e6916b-42d7-418b-8a90-38daf7244eb8",
   "metadata": {},
   "outputs": [
    {
     "data": {
      "text/plain": [
       "6493"
      ]
     },
     "execution_count": 6,
     "metadata": {},
     "output_type": "execute_result"
    }
   ],
   "source": [
    "spark.read.text('./data/gutenberg_books/1342-0.txt') \\\n",
    "    .select(F.split(F.col('value'), ' ').alias('line')) \\\n",
    "    .select(F.explode(F.col('line')).alias('word')) \\\n",
    "    .select(F.lower(F.col('word')).alias('word')) \\\n",
    "    .select(F.regexp_extract(F.col('word'), '[a-z]+', 0).alias('word')) \\\n",
    "    .where(F.col('word') != '') \\\n",
    "    .groupBy('word') \\\n",
    "    .count() \\\n",
    "    .count()"
   ]
  },
  {
   "cell_type": "markdown",
   "id": "de7d2436-9676-4fde-b39c-aabe3f2d7c5d",
   "metadata": {},
   "source": [
    "#### Exercise 3.4 Taking word_count_submit.py , modify the script to return a sample of five words that appear only once in Jane Austen’s Pride and Prejudice"
   ]
  },
  {
   "cell_type": "code",
   "execution_count": 9,
   "id": "a2f4f8d3-ba2b-4e84-80bf-c405b1ceb8af",
   "metadata": {},
   "outputs": [
    {
     "name": "stdout",
     "output_type": "stream",
     "text": [
      "+------------+-----+\n",
      "|        word|count|\n",
      "+------------+-----+\n",
      "|   imitation|    1|\n",
      "|     solaced|    1|\n",
      "|premeditated|    1|\n",
      "|     elevate|    1|\n",
      "|   destitute|    1|\n",
      "+------------+-----+\n",
      "only showing top 5 rows\n",
      "\n"
     ]
    }
   ],
   "source": [
    "spark.read.text('./data/gutenberg_books/1342-0.txt') \\\n",
    "    .select(F.split(F.col('value'), ' ').alias('line')) \\\n",
    "    .select(F.explode(F.col('line')).alias('word')) \\\n",
    "    .select(F.lower(F.col('word')).alias('word')) \\\n",
    "    .select(F.regexp_extract(F.col('word'), '[a-z]+', 0).alias('word')) \\\n",
    "    .where(F.col('word') != '') \\\n",
    "    .groupBy('word') \\\n",
    "    .count() \\\n",
    "    .where(F.col('count') == 1) \\\n",
    "    .show(5)"
   ]
  },
  {
   "cell_type": "markdown",
   "id": "f8ec8aef-2a36-4d3d-8438-16ad3cb88a9d",
   "metadata": {},
   "source": [
    "#### Exercise 3.5 1 Using the substring function (refer to PySpark’s API or the pyspark shell if needed), return the top five most popular first letters (keep only the first letter of each word)."
   ]
  },
  {
   "cell_type": "code",
   "execution_count": 32,
   "id": "68feff9d-d9bf-452f-9b03-ee8b54f8acf9",
   "metadata": {},
   "outputs": [
    {
     "name": "stdout",
     "output_type": "stream",
     "text": [
      "+------------+-----+\n",
      "|first_letter|count|\n",
      "+------------+-----+\n",
      "|           t|16350|\n",
      "|           a|13866|\n",
      "|           h|10573|\n",
      "|           w| 9260|\n",
      "|           s| 8882|\n",
      "+------------+-----+\n",
      "only showing top 5 rows\n",
      "\n"
     ]
    }
   ],
   "source": [
    "spark.read.text('./data/gutenberg_books/1342-0.txt') \\\n",
    "    .select(F.split(F.col('value'), ' ').alias('line')) \\\n",
    "    .select(F.explode(F.col('line')).alias('word')) \\\n",
    "    .select(F.lower(F.col('word')).alias('word')) \\\n",
    "    .select(F.regexp_extract(F.col('word'), '[a-z]+', 0).alias('word')) \\\n",
    "    .where(F.col('word') != '') \\\n",
    "    .withColumn('first_letter', F.substring(str=F.col('word'), pos=1, len=1)) \\\n",
    "    .groupby(F.col(\"first_letter\")) \\\n",
    "    .count() \\\n",
    "    .orderBy('count', ascending=False) \\\n",
    "    .show(5)"
   ]
  },
  {
   "cell_type": "markdown",
   "id": "4399d982-798d-41bf-868d-1e55ae345092",
   "metadata": {},
   "source": [
    "#### Exercise 3.5 2 Compute the number of words starting with a consonant or a vowel. (Hint: The isin() function might be useful.)"
   ]
  },
  {
   "cell_type": "code",
   "execution_count": 37,
   "id": "b23d190d-6b57-4e6b-9796-2a3d1be8c7c8",
   "metadata": {},
   "outputs": [
    {
     "name": "stdout",
     "output_type": "stream",
     "text": [
      "+----------------+-----+\n",
      "|start_with_vowel|count|\n",
      "+----------------+-----+\n",
      "|            true|34316|\n",
      "|           false|90132|\n",
      "+----------------+-----+\n",
      "\n"
     ]
    }
   ],
   "source": [
    "vowels = ['a', 'e', 'i', 'o', 'u']\n",
    "\n",
    "spark.read.text('./data/gutenberg_books/1342-0.txt') \\\n",
    "    .select(F.split(F.col('value'), ' ').alias('line')) \\\n",
    "    .select(F.explode(F.col('line')).alias('word')) \\\n",
    "    .select(F.lower(F.col('word')).alias('word')) \\\n",
    "    .select(F.regexp_extract(F.col('word'), '[a-z]+', 0).alias('word')) \\\n",
    "    .where(F.col('word') != '') \\\n",
    "    .withColumn('start_with_vowel', F.substring('word', 1, 1).isin(vowels)) \\\n",
    "    .groupBy('start_with_vowel') \\\n",
    "    .count() \\\n",
    "    .show()"
   ]
  }
 ],
 "metadata": {
  "kernelspec": {
   "display_name": "Python 3.9.15 ('venv': venv)",
   "language": "python",
   "name": "python3"
  },
  "language_info": {
   "codemirror_mode": {
    "name": "ipython",
    "version": 3
   },
   "file_extension": ".py",
   "mimetype": "text/x-python",
   "name": "python",
   "nbconvert_exporter": "python",
   "pygments_lexer": "ipython3",
   "version": "3.9.15"
  },
  "vscode": {
   "interpreter": {
    "hash": "c670f1e3c6dae00aae88225bb7246b8f813ed6f89d3f1195848091ec06f6428b"
   }
  }
 },
 "nbformat": 4,
 "nbformat_minor": 5
}
