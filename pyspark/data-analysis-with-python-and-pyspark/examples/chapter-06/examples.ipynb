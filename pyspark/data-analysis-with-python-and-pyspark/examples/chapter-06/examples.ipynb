{
 "cells": [
  {
   "cell_type": "markdown",
   "metadata": {},
   "source": [
    "### Read a JSON document while enforcing a precise schema, using FAILFAST mode, in order to improve the data pipeline reliability. The earlier in data lifecycle that data quality problems are detected and handled, the better. Schema constraint creates a strict contract between the data provider and data consumer. This type of schema restriction if especially useful when ingestin data from schemaless data sources, such as JSON documents and data by schema-agnostic storage systems."
   ]
  },
  {
   "cell_type": "code",
   "execution_count": 12,
   "metadata": {},
   "outputs": [],
   "source": [
    "import json"
   ]
  },
  {
   "cell_type": "code",
   "execution_count": 13,
   "metadata": {},
   "outputs": [],
   "source": [
    "from pyspark.sql import SparkSession\n",
    "from pyspark.sql import functions as F\n",
    "from pyspark.sql import types as T"
   ]
  },
  {
   "cell_type": "code",
   "execution_count": 3,
   "metadata": {
    "tags": []
   },
   "outputs": [
    {
     "name": "stdout",
     "output_type": "stream",
     "text": [
      "23/01/01 21:09:46 WARN Utils: Your hostname, karlos-300E5M-300E5L resolves to a loopback address: 127.0.1.1; using 192.168.10.22 instead (on interface enp1s0)\n",
      "23/01/01 21:09:46 WARN Utils: Set SPARK_LOCAL_IP if you need to bind to another address\n"
     ]
    },
    {
     "name": "stderr",
     "output_type": "stream",
     "text": [
      "Setting default log level to \"WARN\".\n",
      "To adjust logging level use sc.setLogLevel(newLevel). For SparkR, use setLogLevel(newLevel).\n"
     ]
    },
    {
     "name": "stdout",
     "output_type": "stream",
     "text": [
      "23/01/01 21:09:47 WARN NativeCodeLoader: Unable to load native-hadoop library for your platform... using builtin-java classes where applicable\n",
      "23/01/01 21:09:50 WARN Utils: Service 'SparkUI' could not bind on port 4040. Attempting port 4041.\n",
      "23/01/01 21:09:50 WARN Utils: Service 'SparkUI' could not bind on port 4041. Attempting port 4042.\n"
     ]
    }
   ],
   "source": [
    "spark = SparkSession.builder \\\n",
    "    .appName('Data Analysis with Python and Pyspark - Chapter 06 Examples') \\\n",
    "    .getOrCreate()"
   ]
  },
  {
   "cell_type": "code",
   "execution_count": 14,
   "metadata": {},
   "outputs": [],
   "source": [
    "_embedded_schema = T.StructType(\n",
    "    [\n",
    "        T.StructField('episodes', T.ArrayType(\n",
    "            T.StructType(\n",
    "                [\n",
    "                    T.StructField('id', T.IntegerType()),\n",
    "                    T.StructField('url', T.StringType()),\n",
    "                    T.StructField('name', T.StringType()),\n",
    "                    T.StructField('season', T.IntegerType()),\n",
    "                    T.StructField('number', T.IntegerType()),\n",
    "                    T.StructField('airdate', T.DateType()),\n",
    "                    T.StructField('airtime', T.StringType()),\n",
    "                    T.StructField('airstamp', T.TimestampType()),\n",
    "                    T.StructField('runtime', T.IntegerType()),\n",
    "                    T.StructField('_links', T.StructType(\n",
    "                        [\n",
    "                            T.StructField('self', T.StructType(\n",
    "                                [\n",
    "                                    T.StructField('href', T.StringType())\n",
    "                                ]\n",
    "                            ))\n",
    "                        ]\n",
    "                    )),\n",
    "                    T.StructField('image', T.StructType(\n",
    "                        [\n",
    "                            T.StructField('medium', T.StringType()),\n",
    "                            T.StructField('original', T.StringType())\n",
    "                        ]\n",
    "                    )),\n",
    "                    T.StructField('summary', T.StringType()),               \n",
    "                ]\n",
    "            )\n",
    "        ))\n",
    "    ]\n",
    ")"
   ]
  },
  {
   "cell_type": "code",
   "execution_count": 15,
   "metadata": {},
   "outputs": [],
   "source": [
    "network_schema = T.StructType(\n",
    "    [\n",
    "        T.StructField('id', T.IntegerType()),\n",
    "        T.StructField('name', T.StringType()),\n",
    "        T.StructField('country', T.StructType(\n",
    "            [\n",
    "                T.StructField('name', T.StringType()),\n",
    "                T.StructField('code', T.StringType()),\n",
    "                T.StructField('timezones', T.StringType())\n",
    "            ]\n",
    "        ))\n",
    "    ]\n",
    ")"
   ]
  },
  {
   "cell_type": "code",
   "execution_count": 16,
   "metadata": {},
   "outputs": [],
   "source": [
    "schema = T.StructType(\n",
    "    [\n",
    "        T.StructField('_embedded', _embedded_schema),\n",
    "        T.StructField('id', T.IntegerType()),\n",
    "        T.StructField('url', T.StringType()),\n",
    "        T.StructField('name', T.StringType()),\n",
    "        T.StructField('type', T.StringType()),\n",
    "        T.StructField('language', T.StringType()),\n",
    "        T.StructField('languages', T.ArrayType(T.StringType())),\n",
    "        T.StructField('status', T.StringType()),\n",
    "        T.StructField('runtime', T.IntegerType()),\n",
    "        T.StructField('premiered', T.DateType()),\n",
    "        T.StructField('officialSite', T.StringType()),\n",
    "        T.StructField('genres', T.ArrayType(T.StringType())),\n",
    "        T.StructField('schedule', T.StructType(\n",
    "            [\n",
    "                T.StructField('time', T.StringType()),\n",
    "                T.StructField('days', T.ArrayType(T.StringType()))\n",
    "            ]\n",
    "        )),\n",
    "        T.StructField('rating', T.StructType(\n",
    "            [\n",
    "                T.StructField('average', T.DoubleType())\n",
    "            ]\n",
    "        )),\n",
    "        T.StructField('weight', T.IntegerType()),\n",
    "        T.StructField('network', network_schema),\n",
    "        T.StructField('webChannel', T.StructType(\n",
    "            [\n",
    "                T.StructField('country', T.StringType()),\n",
    "                T.StructField('id', T.StringType()),\n",
    "                T.StructField('name', T.StringType())\n",
    "                \n",
    "            ]\n",
    "        )),\n",
    "        T.StructField('externals', T.StructType(\n",
    "            [\n",
    "                T.StructField('tvrage', T.IntegerType()),\n",
    "                T.StructField('thetvdb', T.IntegerType()),\n",
    "                T.StructField('imdb', T.IntegerType()),\n",
    "            ]\n",
    "        )),\n",
    "        T.StructField('image', T.StructType(\n",
    "            [\n",
    "                T.StructField('medium', T.StringType()),\n",
    "                T.StructField('original', T.StringType())\n",
    "            ]\n",
    "        )),\n",
    "        T.StructField('summary', T.StringType()),\n",
    "        T.StructField('updated', T.TimestampType()),\n",
    "        T.StructField('_links', T.StructType(\n",
    "            [\n",
    "                T.StructField('self', T.StructType(\n",
    "                    [\n",
    "                        T.StructField('href', T.StringType())\n",
    "                    ]\n",
    "                )),\n",
    "                T.StructField('previousepisode', T.StructType(\n",
    "                    [\n",
    "                        T.StructField('href', T.StringType())\n",
    "                    ]\n",
    "                ))\n",
    "            ]\n",
    "        ))\n",
    "    ]\n",
    ")"
   ]
  },
  {
   "cell_type": "code",
   "execution_count": 8,
   "metadata": {},
   "outputs": [],
   "source": [
    "all_shows = spark.read.json(\n",
    "    '../../data/shows/*.json',\n",
    "    multiLine=True,\n",
    "    schema=schema,\n",
    "    mode='FAILFAST'\n",
    ")"
   ]
  },
  {
   "cell_type": "code",
   "execution_count": 8,
   "metadata": {},
   "outputs": [
    {
     "name": "stdout",
     "output_type": "stream",
     "text": [
      "root\n",
      " |-- _embedded: struct (nullable = true)\n",
      " |    |-- episodes: array (nullable = true)\n",
      " |    |    |-- element: struct (containsNull = true)\n",
      " |    |    |    |-- id: integer (nullable = true)\n",
      " |    |    |    |-- url: string (nullable = true)\n",
      " |    |    |    |-- name: string (nullable = true)\n",
      " |    |    |    |-- season: integer (nullable = true)\n",
      " |    |    |    |-- number: integer (nullable = true)\n",
      " |    |    |    |-- airdate: date (nullable = true)\n",
      " |    |    |    |-- airtime: string (nullable = true)\n",
      " |    |    |    |-- airstamp: timestamp (nullable = true)\n",
      " |    |    |    |-- runtime: integer (nullable = true)\n",
      " |    |    |    |-- _links: struct (nullable = true)\n",
      " |    |    |    |    |-- self: struct (nullable = true)\n",
      " |    |    |    |    |    |-- href: string (nullable = true)\n",
      " |    |    |    |-- image: struct (nullable = true)\n",
      " |    |    |    |    |-- medium: string (nullable = true)\n",
      " |    |    |    |    |-- original: string (nullable = true)\n",
      " |    |    |    |-- summary: string (nullable = true)\n",
      " |-- id: integer (nullable = true)\n",
      " |-- url: string (nullable = true)\n",
      " |-- name: string (nullable = true)\n",
      " |-- type: string (nullable = true)\n",
      " |-- language: string (nullable = true)\n",
      " |-- languages: array (nullable = true)\n",
      " |    |-- element: string (containsNull = true)\n",
      " |-- status: string (nullable = true)\n",
      " |-- runtime: integer (nullable = true)\n",
      " |-- premiered: date (nullable = true)\n",
      " |-- officialSite: string (nullable = true)\n",
      " |-- genres: array (nullable = true)\n",
      " |    |-- element: string (containsNull = true)\n",
      " |-- schedule: struct (nullable = true)\n",
      " |    |-- time: string (nullable = true)\n",
      " |    |-- days: array (nullable = true)\n",
      " |    |    |-- element: string (containsNull = true)\n",
      " |-- rating: struct (nullable = true)\n",
      " |    |-- average: double (nullable = true)\n",
      " |-- weight: integer (nullable = true)\n",
      " |-- network: struct (nullable = true)\n",
      " |    |-- id: integer (nullable = true)\n",
      " |    |-- name: string (nullable = true)\n",
      " |    |-- country: struct (nullable = true)\n",
      " |    |    |-- name: string (nullable = true)\n",
      " |    |    |-- code: string (nullable = true)\n",
      " |    |    |-- timezones: string (nullable = true)\n",
      " |-- webChannel: struct (nullable = true)\n",
      " |    |-- country: string (nullable = true)\n",
      " |    |-- id: string (nullable = true)\n",
      " |    |-- name: string (nullable = true)\n",
      " |-- externals: struct (nullable = true)\n",
      " |    |-- tvrage: integer (nullable = true)\n",
      " |    |-- thetvdb: integer (nullable = true)\n",
      " |    |-- imdb: integer (nullable = true)\n",
      " |-- image: struct (nullable = true)\n",
      " |    |-- medium: string (nullable = true)\n",
      " |    |-- original: string (nullable = true)\n",
      " |-- summary: string (nullable = true)\n",
      " |-- updated: timestamp (nullable = true)\n",
      " |-- _links: struct (nullable = true)\n",
      " |    |-- self: struct (nullable = true)\n",
      " |    |    |-- href: string (nullable = true)\n",
      " |    |-- previousepisode: struct (nullable = true)\n",
      " |    |    |-- href: string (nullable = true)\n",
      "\n"
     ]
    }
   ],
   "source": [
    "all_shows.printSchema()"
   ]
  },
  {
   "cell_type": "code",
   "execution_count": 9,
   "metadata": {},
   "outputs": [
    {
     "name": "stderr",
     "output_type": "stream",
     "text": [
      "                                                                                \r"
     ]
    },
    {
     "data": {
      "text/plain": [
       "3"
      ]
     },
     "execution_count": 9,
     "metadata": {},
     "output_type": "execute_result"
    }
   ],
   "source": [
    "all_shows.count()"
   ]
  },
  {
   "cell_type": "code",
   "execution_count": 10,
   "metadata": {},
   "outputs": [],
   "source": [
    "all_shows_inferred_schema = spark.read.json('../../data/shows/*.json')"
   ]
  },
  {
   "cell_type": "code",
   "execution_count": 11,
   "metadata": {},
   "outputs": [
    {
     "data": {
      "text/plain": [
       "3"
      ]
     },
     "execution_count": 11,
     "metadata": {},
     "output_type": "execute_result"
    }
   ],
   "source": [
    "all_shows_inferred_schema.count()"
   ]
  },
  {
   "cell_type": "code",
   "execution_count": 12,
   "metadata": {},
   "outputs": [
    {
     "name": "stdout",
     "output_type": "stream",
     "text": [
      "root\n",
      " |-- _embedded: struct (nullable = true)\n",
      " |    |-- episodes: array (nullable = true)\n",
      " |    |    |-- element: struct (containsNull = true)\n",
      " |    |    |    |-- _links: struct (nullable = true)\n",
      " |    |    |    |    |-- self: struct (nullable = true)\n",
      " |    |    |    |    |    |-- href: string (nullable = true)\n",
      " |    |    |    |-- airdate: string (nullable = true)\n",
      " |    |    |    |-- airstamp: string (nullable = true)\n",
      " |    |    |    |-- airtime: string (nullable = true)\n",
      " |    |    |    |-- id: long (nullable = true)\n",
      " |    |    |    |-- image: struct (nullable = true)\n",
      " |    |    |    |    |-- medium: string (nullable = true)\n",
      " |    |    |    |    |-- original: string (nullable = true)\n",
      " |    |    |    |-- name: string (nullable = true)\n",
      " |    |    |    |-- number: long (nullable = true)\n",
      " |    |    |    |-- runtime: long (nullable = true)\n",
      " |    |    |    |-- season: long (nullable = true)\n",
      " |    |    |    |-- summary: string (nullable = true)\n",
      " |    |    |    |-- url: string (nullable = true)\n",
      " |-- _links: struct (nullable = true)\n",
      " |    |-- previousepisode: struct (nullable = true)\n",
      " |    |    |-- href: string (nullable = true)\n",
      " |    |-- self: struct (nullable = true)\n",
      " |    |    |-- href: string (nullable = true)\n",
      " |-- externals: struct (nullable = true)\n",
      " |    |-- imdb: string (nullable = true)\n",
      " |    |-- thetvdb: long (nullable = true)\n",
      " |    |-- tvrage: long (nullable = true)\n",
      " |-- genres: array (nullable = true)\n",
      " |    |-- element: string (containsNull = true)\n",
      " |-- id: long (nullable = true)\n",
      " |-- image: struct (nullable = true)\n",
      " |    |-- medium: string (nullable = true)\n",
      " |    |-- original: string (nullable = true)\n",
      " |-- language: string (nullable = true)\n",
      " |-- name: string (nullable = true)\n",
      " |-- network: struct (nullable = true)\n",
      " |    |-- country: struct (nullable = true)\n",
      " |    |    |-- code: string (nullable = true)\n",
      " |    |    |-- name: string (nullable = true)\n",
      " |    |    |-- timezone: string (nullable = true)\n",
      " |    |-- id: long (nullable = true)\n",
      " |    |-- name: string (nullable = true)\n",
      " |-- officialSite: string (nullable = true)\n",
      " |-- premiered: string (nullable = true)\n",
      " |-- rating: struct (nullable = true)\n",
      " |    |-- average: double (nullable = true)\n",
      " |-- runtime: long (nullable = true)\n",
      " |-- schedule: struct (nullable = true)\n",
      " |    |-- days: array (nullable = true)\n",
      " |    |    |-- element: string (containsNull = true)\n",
      " |    |-- time: string (nullable = true)\n",
      " |-- status: string (nullable = true)\n",
      " |-- summary: string (nullable = true)\n",
      " |-- type: string (nullable = true)\n",
      " |-- updated: long (nullable = true)\n",
      " |-- url: string (nullable = true)\n",
      " |-- webChannel: struct (nullable = true)\n",
      " |    |-- country: string (nullable = true)\n",
      " |    |-- id: long (nullable = true)\n",
      " |    |-- name: string (nullable = true)\n",
      " |-- weight: long (nullable = true)\n",
      "\n"
     ]
    }
   ],
   "source": [
    "all_shows_inferred_schema.printSchema()"
   ]
  },
  {
   "cell_type": "code",
   "execution_count": 13,
   "metadata": {},
   "outputs": [
    {
     "data": {
      "text/plain": [
       "DataFrame[airdate: array<date>, airstamp: array<timestamp>]"
      ]
     },
     "execution_count": 13,
     "metadata": {},
     "output_type": "execute_result"
    }
   ],
   "source": [
    "all_shows.select('_embedded.episodes.airdate', '_embedded.episodes.airstamp')"
   ]
  },
  {
   "cell_type": "code",
   "execution_count": 14,
   "metadata": {},
   "outputs": [
    {
     "data": {
      "text/plain": [
       "DataFrame[airtime: array<string>, airstamp: array<string>]"
      ]
     },
     "execution_count": 14,
     "metadata": {},
     "output_type": "execute_result"
    }
   ],
   "source": [
    "all_shows_inferred_schema.select(\n",
    "    '_embedded.episodes.airtime',\n",
    "    '_embedded.episodes.airstamp'\n",
    ")"
   ]
  },
  {
   "cell_type": "markdown",
   "metadata": {},
   "source": [
    "#### `DataFrame.schema` returns a DataFrame schema as a StructType."
   ]
  },
  {
   "cell_type": "code",
   "execution_count": 15,
   "metadata": {},
   "outputs": [
    {
     "data": {
      "text/plain": [
       "StructType([StructField('_embedded', StructType([StructField('episodes', ArrayType(StructType([StructField('id', IntegerType(), True), StructField('url', StringType(), True), StructField('name', StringType(), True), StructField('season', IntegerType(), True), StructField('number', IntegerType(), True), StructField('airdate', DateType(), True), StructField('airtime', StringType(), True), StructField('airstamp', TimestampType(), True), StructField('runtime', IntegerType(), True), StructField('_links', StructType([StructField('self', StructType([StructField('href', StringType(), True)]), True)]), True), StructField('image', StructType([StructField('medium', StringType(), True), StructField('original', StringType(), True)]), True), StructField('summary', StringType(), True)]), True), True)]), True), StructField('id', IntegerType(), True), StructField('url', StringType(), True), StructField('name', StringType(), True), StructField('type', StringType(), True), StructField('language', StringType(), True), StructField('languages', ArrayType(StringType(), True), True), StructField('status', StringType(), True), StructField('runtime', IntegerType(), True), StructField('premiered', DateType(), True), StructField('officialSite', StringType(), True), StructField('genres', ArrayType(StringType(), True), True), StructField('schedule', StructType([StructField('time', StringType(), True), StructField('days', ArrayType(StringType(), True), True)]), True), StructField('rating', StructType([StructField('average', DoubleType(), True)]), True), StructField('weight', IntegerType(), True), StructField('network', StructType([StructField('id', IntegerType(), True), StructField('name', StringType(), True), StructField('country', StructType([StructField('name', StringType(), True), StructField('code', StringType(), True), StructField('timezones', StringType(), True)]), True)]), True), StructField('webChannel', StructType([StructField('country', StringType(), True), StructField('id', StringType(), True), StructField('name', StringType(), True)]), True), StructField('externals', StructType([StructField('tvrage', IntegerType(), True), StructField('thetvdb', IntegerType(), True), StructField('imdb', IntegerType(), True)]), True), StructField('image', StructType([StructField('medium', StringType(), True), StructField('original', StringType(), True)]), True), StructField('summary', StringType(), True), StructField('updated', TimestampType(), True), StructField('_links', StructType([StructField('self', StructType([StructField('href', StringType(), True)]), True), StructField('previousepisode', StructType([StructField('href', StringType(), True)]), True)]), True)])"
      ]
     },
     "execution_count": 15,
     "metadata": {},
     "output_type": "execute_result"
    }
   ],
   "source": [
    "all_shows.schema"
   ]
  },
  {
   "cell_type": "markdown",
   "metadata": {},
   "source": [
    "### Using JSON to represent schemas.\n",
    "\n",
    "- `T.StructType.fromJson()` and `T.StructField.fromJson()`: read a schema represented by a JSON object represented by a dict.\n",
    "- `DataFrame.schema.json()`: return a string containing the schema as a string representing JSON object.\n",
    "- `DataFrame.schema.jsonValue()`: return a dict representing the schema."
   ]
  },
  {
   "cell_type": "code",
   "execution_count": 16,
   "metadata": {},
   "outputs": [
    {
     "data": {
      "text/plain": [
       "'{\"fields\":[{\"metadata\":{},\"name\":\"_embedded\",\"nullable\":true,\"type\":{\"fields\":[{\"metadata\":{},\"name\":\"episodes\",\"nullable\":true,\"type\":{\"containsNull\":true,\"elementType\":{\"fields\":[{\"metadata\":{},\"name\":\"id\",\"nullable\":true,\"type\":\"integer\"},{\"metadata\":{},\"name\":\"url\",\"nullable\":true,\"type\":\"string\"},{\"metadata\":{},\"name\":\"name\",\"nullable\":true,\"type\":\"string\"},{\"metadata\":{},\"name\":\"season\",\"nullable\":true,\"type\":\"integer\"},{\"metadata\":{},\"name\":\"number\",\"nullable\":true,\"type\":\"integer\"},{\"metadata\":{},\"name\":\"airdate\",\"nullable\":true,\"type\":\"date\"},{\"metadata\":{},\"name\":\"airtime\",\"nullable\":true,\"type\":\"string\"},{\"metadata\":{},\"name\":\"airstamp\",\"nullable\":true,\"type\":\"timestamp\"},{\"metadata\":{},\"name\":\"runtime\",\"nullable\":true,\"type\":\"integer\"},{\"metadata\":{},\"name\":\"_links\",\"nullable\":true,\"type\":{\"fields\":[{\"metadata\":{},\"name\":\"self\",\"nullable\":true,\"type\":{\"fields\":[{\"metadata\":{},\"name\":\"href\",\"nullable\":true,\"type\":\"string\"}],\"type\":\"struct\"}}],\"type\":\"struct\"}},{\"metadata\":{},\"name\":\"image\",\"nullable\":true,\"type\":{\"fields\":[{\"metadata\":{},\"name\":\"medium\",\"nullable\":true,\"type\":\"string\"},{\"metadata\":{},\"name\":\"original\",\"nullable\":true,\"type\":\"string\"}],\"type\":\"struct\"}},{\"metadata\":{},\"name\":\"summary\",\"nullable\":true,\"type\":\"string\"}],\"type\":\"struct\"},\"type\":\"array\"}}],\"type\":\"struct\"}}],\"type\":\"struct\"}'"
      ]
     },
     "execution_count": 16,
     "metadata": {},
     "output_type": "execute_result"
    }
   ],
   "source": [
    "all_shows.select('_embedded').schema.json()"
   ]
  },
  {
   "cell_type": "code",
   "execution_count": 17,
   "metadata": {},
   "outputs": [
    {
     "data": {
      "text/plain": [
       "{'type': 'struct',\n",
       " 'fields': [{'name': '_embedded',\n",
       "   'type': {'type': 'struct',\n",
       "    'fields': [{'name': 'episodes',\n",
       "      'type': {'type': 'array',\n",
       "       'elementType': {'type': 'struct',\n",
       "        'fields': [{'name': 'id',\n",
       "          'type': 'integer',\n",
       "          'nullable': True,\n",
       "          'metadata': {}},\n",
       "         {'name': 'url', 'type': 'string', 'nullable': True, 'metadata': {}},\n",
       "         {'name': 'name', 'type': 'string', 'nullable': True, 'metadata': {}},\n",
       "         {'name': 'season',\n",
       "          'type': 'integer',\n",
       "          'nullable': True,\n",
       "          'metadata': {}},\n",
       "         {'name': 'number',\n",
       "          'type': 'integer',\n",
       "          'nullable': True,\n",
       "          'metadata': {}},\n",
       "         {'name': 'airdate', 'type': 'date', 'nullable': True, 'metadata': {}},\n",
       "         {'name': 'airtime',\n",
       "          'type': 'string',\n",
       "          'nullable': True,\n",
       "          'metadata': {}},\n",
       "         {'name': 'airstamp',\n",
       "          'type': 'timestamp',\n",
       "          'nullable': True,\n",
       "          'metadata': {}},\n",
       "         {'name': 'runtime',\n",
       "          'type': 'integer',\n",
       "          'nullable': True,\n",
       "          'metadata': {}},\n",
       "         {'name': '_links',\n",
       "          'type': {'type': 'struct',\n",
       "           'fields': [{'name': 'self',\n",
       "             'type': {'type': 'struct',\n",
       "              'fields': [{'name': 'href',\n",
       "                'type': 'string',\n",
       "                'nullable': True,\n",
       "                'metadata': {}}]},\n",
       "             'nullable': True,\n",
       "             'metadata': {}}]},\n",
       "          'nullable': True,\n",
       "          'metadata': {}},\n",
       "         {'name': 'image',\n",
       "          'type': {'type': 'struct',\n",
       "           'fields': [{'name': 'medium',\n",
       "             'type': 'string',\n",
       "             'nullable': True,\n",
       "             'metadata': {}},\n",
       "            {'name': 'original',\n",
       "             'type': 'string',\n",
       "             'nullable': True,\n",
       "             'metadata': {}}]},\n",
       "          'nullable': True,\n",
       "          'metadata': {}},\n",
       "         {'name': 'summary',\n",
       "          'type': 'string',\n",
       "          'nullable': True,\n",
       "          'metadata': {}}]},\n",
       "       'containsNull': True},\n",
       "      'nullable': True,\n",
       "      'metadata': {}}]},\n",
       "   'nullable': True,\n",
       "   'metadata': {}}]}"
      ]
     },
     "execution_count": 17,
     "metadata": {},
     "output_type": "execute_result"
    }
   ],
   "source": [
    "all_shows.select('_embedded').schema.jsonValue()"
   ]
  },
  {
   "cell_type": "code",
   "execution_count": 18,
   "metadata": {},
   "outputs": [
    {
     "data": {
      "text/plain": [
       "True"
      ]
     },
     "execution_count": 18,
     "metadata": {},
     "output_type": "execute_result"
    }
   ],
   "source": [
    "json.loads(all_shows.schema.json()) == all_shows.schema.jsonValue()"
   ]
  },
  {
   "cell_type": "code",
   "execution_count": 19,
   "metadata": {},
   "outputs": [
    {
     "data": {
      "text/plain": [
       "True"
      ]
     },
     "execution_count": 19,
     "metadata": {},
     "output_type": "execute_result"
    }
   ],
   "source": [
    "T.StructType.fromJson(all_shows.schema.jsonValue()) == all_shows.schema"
   ]
  },
  {
   "cell_type": "code",
   "execution_count": 18,
   "metadata": {},
   "outputs": [],
   "source": [
    "with open('../../shows_schema.json', mode='w') as f:\n",
    "    # json.dump(all_shows.schema.jsonValue(), f)\n",
    "    json.dump(schema.jsonValue(), f)"
   ]
  },
  {
   "cell_type": "code",
   "execution_count": 21,
   "metadata": {},
   "outputs": [],
   "source": [
    "# spark.stop()"
   ]
  }
 ],
 "metadata": {
  "kernelspec": {
   "display_name": "base",
   "language": "python",
   "name": "python3"
  },
  "language_info": {
   "codemirror_mode": {
    "name": "ipython",
    "version": 3
   },
   "file_extension": ".py",
   "mimetype": "text/x-python",
   "name": "python",
   "nbconvert_exporter": "python",
   "pygments_lexer": "ipython3",
   "version": "3.9.15 | packaged by conda-forge | (main, Nov 22 2022, 15:55:03) \n[GCC 10.4.0]"
  },
  "vscode": {
   "interpreter": {
    "hash": "d76f782f9e2bb336f39952c692d78dbf55a20fd2f5486713d2fa651d7c15ab40"
   }
  }
 },
 "nbformat": 4,
 "nbformat_minor": 4
}
