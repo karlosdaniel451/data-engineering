{
 "cells": [
  {
   "cell_type": "code",
   "execution_count": 4,
   "id": "446551f2-73e3-4afb-bf71-12da5d4a14e5",
   "metadata": {},
   "outputs": [],
   "source": [
    "import datetime\n",
    "import json"
   ]
  },
  {
   "cell_type": "code",
   "execution_count": 5,
   "id": "11291782-76a0-43e1-8e16-d17e5b47c242",
   "metadata": {},
   "outputs": [],
   "source": [
    "from pyspark.sql import SparkSession\n",
    "from pyspark.sql import functions as F\n",
    "from pyspark.sql import types as T"
   ]
  },
  {
   "cell_type": "code",
   "execution_count": 6,
   "id": "38a181f7-aa54-4d80-92ef-6dcc792bdea1",
   "metadata": {},
   "outputs": [],
   "source": [
    "spark = SparkSession.builder \\\n",
    "    .appName('Data Analysis with Python and PySpark - Chapter 06 Exercises') \\\n",
    "    .getOrCreate()"
   ]
  },
  {
   "cell_type": "code",
   "execution_count": 7,
   "id": "ca2e62b0-5fb3-4c60-bc00-b7004f26c8c4",
   "metadata": {},
   "outputs": [
    {
     "data": {
      "text/plain": [
       "StructType([StructField('_embedded', StructType([StructField('episodes', ArrayType(StructType([StructField('id', IntegerType(), True), StructField('url', StringType(), True), StructField('name', StringType(), True), StructField('season', IntegerType(), True), StructField('number', IntegerType(), True), StructField('airdate', DateType(), True), StructField('airtime', StringType(), True), StructField('airstamp', TimestampType(), True), StructField('runtime', IntegerType(), True), StructField('_links', StructType([StructField('self', StructType([StructField('href', StringType(), True)]), True)]), True), StructField('image', StructType([StructField('medium', StringType(), True), StructField('original', StringType(), True)]), True), StructField('summary', StringType(), True)]), True), True)]), True), StructField('id', IntegerType(), True), StructField('url', StringType(), True), StructField('name', StringType(), True), StructField('type', StringType(), True), StructField('language', StringType(), True), StructField('languages', ArrayType(StringType(), True), True), StructField('status', StringType(), True), StructField('runtime', IntegerType(), True), StructField('premiered', DateType(), True), StructField('officialSite', StringType(), True), StructField('genres', ArrayType(StringType(), True), True), StructField('schedule', StructType([StructField('time', StringType(), True), StructField('days', ArrayType(StringType(), True), True)]), True), StructField('rating', StructType([StructField('average', DoubleType(), True)]), True), StructField('weight', IntegerType(), True), StructField('network', StructType([StructField('id', IntegerType(), True), StructField('name', StringType(), True), StructField('country', StructType([StructField('name', StringType(), True), StructField('code', StringType(), True), StructField('timezones', StringType(), True)]), True)]), True), StructField('webChannel', StructType([StructField('country', StringType(), True), StructField('id', StringType(), True), StructField('name', StringType(), True)]), True), StructField('externals', StructType([StructField('tvrage', IntegerType(), True), StructField('thetvdb', IntegerType(), True), StructField('imdb', IntegerType(), True)]), True), StructField('image', StructType([StructField('medium', StringType(), True), StructField('original', StringType(), True)]), True), StructField('summary', StringType(), True), StructField('updated', TimestampType(), True), StructField('_links', StructType([StructField('self', StructType([StructField('href', StringType(), True)]), True), StructField('previousepisode', StructType([StructField('href', StringType(), True)]), True)]), True)])"
      ]
     },
     "execution_count": 7,
     "metadata": {},
     "output_type": "execute_result"
    }
   ],
   "source": [
    "with open('shows_schema.json', mode='r') as f:\n",
    "    schema = T.StructType.fromJson(json.load(f))\n",
    "\n",
    "schema"
   ]
  },
  {
   "cell_type": "code",
   "execution_count": 8,
   "id": "ef8990eb-0a31-4dd0-97c1-4e189de865c7",
   "metadata": {},
   "outputs": [
    {
     "name": "stdout",
     "output_type": "stream",
     "text": [
      "root\n",
      " |-- _embedded: struct (nullable = true)\n",
      " |    |-- episodes: array (nullable = true)\n",
      " |    |    |-- element: struct (containsNull = true)\n",
      " |    |    |    |-- id: integer (nullable = true)\n",
      " |    |    |    |-- url: string (nullable = true)\n",
      " |    |    |    |-- name: string (nullable = true)\n",
      " |    |    |    |-- season: integer (nullable = true)\n",
      " |    |    |    |-- number: integer (nullable = true)\n",
      " |    |    |    |-- airdate: date (nullable = true)\n",
      " |    |    |    |-- airtime: string (nullable = true)\n",
      " |    |    |    |-- airstamp: timestamp (nullable = true)\n",
      " |    |    |    |-- runtime: integer (nullable = true)\n",
      " |    |    |    |-- _links: struct (nullable = true)\n",
      " |    |    |    |    |-- self: struct (nullable = true)\n",
      " |    |    |    |    |    |-- href: string (nullable = true)\n",
      " |    |    |    |-- image: struct (nullable = true)\n",
      " |    |    |    |    |-- medium: string (nullable = true)\n",
      " |    |    |    |    |-- original: string (nullable = true)\n",
      " |    |    |    |-- summary: string (nullable = true)\n",
      " |-- id: integer (nullable = true)\n",
      " |-- url: string (nullable = true)\n",
      " |-- name: string (nullable = true)\n",
      " |-- type: string (nullable = true)\n",
      " |-- language: string (nullable = true)\n",
      " |-- languages: array (nullable = true)\n",
      " |    |-- element: string (containsNull = true)\n",
      " |-- status: string (nullable = true)\n",
      " |-- runtime: integer (nullable = true)\n",
      " |-- premiered: date (nullable = true)\n",
      " |-- officialSite: string (nullable = true)\n",
      " |-- genres: array (nullable = true)\n",
      " |    |-- element: string (containsNull = true)\n",
      " |-- schedule: struct (nullable = true)\n",
      " |    |-- time: string (nullable = true)\n",
      " |    |-- days: array (nullable = true)\n",
      " |    |    |-- element: string (containsNull = true)\n",
      " |-- rating: struct (nullable = true)\n",
      " |    |-- average: double (nullable = true)\n",
      " |-- weight: integer (nullable = true)\n",
      " |-- network: struct (nullable = true)\n",
      " |    |-- id: integer (nullable = true)\n",
      " |    |-- name: string (nullable = true)\n",
      " |    |-- country: struct (nullable = true)\n",
      " |    |    |-- name: string (nullable = true)\n",
      " |    |    |-- code: string (nullable = true)\n",
      " |    |    |-- timezones: string (nullable = true)\n",
      " |-- webChannel: struct (nullable = true)\n",
      " |    |-- country: string (nullable = true)\n",
      " |    |-- id: string (nullable = true)\n",
      " |    |-- name: string (nullable = true)\n",
      " |-- externals: struct (nullable = true)\n",
      " |    |-- tvrage: integer (nullable = true)\n",
      " |    |-- thetvdb: integer (nullable = true)\n",
      " |    |-- imdb: integer (nullable = true)\n",
      " |-- image: struct (nullable = true)\n",
      " |    |-- medium: string (nullable = true)\n",
      " |    |-- original: string (nullable = true)\n",
      " |-- summary: string (nullable = true)\n",
      " |-- updated: timestamp (nullable = true)\n",
      " |-- _links: struct (nullable = true)\n",
      " |    |-- self: struct (nullable = true)\n",
      " |    |    |-- href: string (nullable = true)\n",
      " |    |-- previousepisode: struct (nullable = true)\n",
      " |    |    |-- href: string (nullable = true)\n",
      "\n"
     ]
    }
   ],
   "source": [
    "all_shows = spark.read.json(\n",
    "    '../../data/shows/*.json',\n",
    "    multiLine=True,\n",
    "    schema=schema,\n",
    "    mode='FAILFAST'\n",
    ")\n",
    "\n",
    "all_shows.printSchema()"
   ]
  },
  {
   "cell_type": "markdown",
   "id": "aca37c0f-cb51-4e6b-ba89-05db17f19177",
   "metadata": {},
   "source": [
    "#### Exercise 6.5\n",
    "Although much less common, you can create a data frame from a dictionary. Since\n",
    "dictionaries are so close to JSON documents, build the schema for ingesting the fol-\n",
    "lowing dictionary. (Both JSON or PySpark schemas are valid here.)\n",
    "\n",
    "```python\n",
    "dict_schema = ???\n",
    "spark.createDataFrame([{\"one\": 1, \"two\": [1,2,3]}], schema=dict_schema)\n",
    "```"
   ]
  },
  {
   "cell_type": "code",
   "execution_count": 9,
   "id": "46448ed3-6d15-4765-bd71-2628fb3ec76a",
   "metadata": {},
   "outputs": [
    {
     "data": {
      "text/plain": [
       "DataFrame[one: int, two: array<int>]"
      ]
     },
     "execution_count": 9,
     "metadata": {},
     "output_type": "execute_result"
    }
   ],
   "source": [
    "dict_schema = T.StructType(\n",
    "    [\n",
    "        T.StructField('one', T.IntegerType()),\n",
    "        T.StructField('two', T.ArrayType(T.IntegerType()))\n",
    "    ]\n",
    ")\n",
    "\n",
    "spark.createDataFrame([{'one': 1, 'two': [1, 2, 3]}], schema=dict_schema)"
   ]
  },
  {
   "cell_type": "markdown",
   "id": "da5e9ba6-0d38-4d92-ae4b-b078831c4437",
   "metadata": {},
   "source": [
    "#### Exercise 6.6 \n",
    "Using `all_shows`, compute the time between the first and last episodes for each\n",
    "show. Which show had the longest tenure?"
   ]
  },
  {
   "cell_type": "code",
   "execution_count": 39,
   "id": "051d5c02-6f04-4a87-b507-1413a021b5f8",
   "metadata": {},
   "outputs": [
    {
     "name": "stdout",
     "output_type": "stream",
     "text": [
      "+---+----------------+-------------------+\n",
      "| id|            name|           interval|\n",
      "+---+----------------+-------------------+\n",
      "|722|The Golden Girls|INTERVAL '2429' DAY|\n",
      "|169|    Breaking Bad|INTERVAL '2079' DAY|\n",
      "|143|  Silicon Valley|INTERVAL '2072' DAY|\n",
      "+---+----------------+-------------------+\n",
      "\n"
     ]
    }
   ],
   "source": [
    "interval_between_first_and_last_episodes = all_shows.withColumn(\n",
    "    'interval',\n",
    "    F.array_max('_embedded.episodes.airdate') - F.array_min('_embedded.episodes.airdate')\n",
    ")\n",
    "\n",
    "interval_between_first_and_last_episodes.select('id', 'name', 'interval') \\\n",
    "    .orderBy('interval', ascending=False) \\\n",
    "    .show()"
   ]
  },
  {
   "cell_type": "markdown",
   "id": "de113d24-adb5-43e6-b38c-58a6771c0ec9",
   "metadata": {},
   "source": [
    "#### Exercise 6.7\n",
    "Take the shows data frame and extract the air date and name of each episode in two\n",
    "array columns."
   ]
  },
  {
   "cell_type": "code",
   "execution_count": 11,
   "id": "95fa92f2-e4e2-40e4-8d33-705a6534ba56",
   "metadata": {},
   "outputs": [
    {
     "name": "stdout",
     "output_type": "stream",
     "text": [
      "+------------------------------------------------------------+------------------------------------------------------------+\n",
      "|                                                     airdate|                                                        name|\n",
      "+------------------------------------------------------------+------------------------------------------------------------+\n",
      "|[1985-09-14, 1985-09-21, 1985-09-28, 1985-10-05, 1985-10-...|[The Engagement, Guess Who's Coming to the Wedding?, Rose...|\n",
      "|[2008-01-20, 2008-01-27, 2008-02-10, 2008-02-17, 2008-02-...|[Pilot, Cat's in the Bag..., ...and the Bag's in the Rive...|\n",
      "|[2014-04-06, 2014-04-13, 2014-04-20, 2014-04-27, 2014-05-...|[Minimum Viable Product, The Cap Table, Articles of Incor...|\n",
      "+------------------------------------------------------------+------------------------------------------------------------+\n",
      "\n"
     ]
    }
   ],
   "source": [
    "all_shows.select('_embedded.episodes.airdate', '_embedded.episodes.name') \\\n",
    "    .show(truncate=60)"
   ]
  },
  {
   "cell_type": "code",
   "execution_count": 12,
   "id": "b9eff06a-b7bb-40a0-84c8-14e67f18b19b",
   "metadata": {},
   "outputs": [
    {
     "name": "stdout",
     "output_type": "stream",
     "text": [
      "+----------+----------------------------------+\n",
      "|airdate   |name                              |\n",
      "+----------+----------------------------------+\n",
      "|1985-09-14|The Engagement                    |\n",
      "|1985-09-21|Guess Who's Coming to the Wedding?|\n",
      "|1985-09-28|Rose the Prude                    |\n",
      "|1985-10-05|Transplant                        |\n",
      "|1985-10-19|The Triangle                      |\n",
      "|1985-10-26|On Golden Girls                   |\n",
      "|1985-11-02|The Competition                   |\n",
      "|1985-11-09|Break-In                          |\n",
      "|1985-11-16|Blanche and the Younger Man       |\n",
      "|1985-11-23|Heart Attack                      |\n",
      "|1985-11-30|The Return of Dorothy's Ex        |\n",
      "|1985-12-07|The Custody Battle                |\n",
      "|1985-12-14|A Little Romance                  |\n",
      "|1985-12-21|That Was No Lady                  |\n",
      "|1986-01-11|In a Bed of Rose's                |\n",
      "|1986-01-18|The Truth Will Out                |\n",
      "|1986-02-01|Nice and Easy                     |\n",
      "|1986-02-08|The Operation                     |\n",
      "|1986-02-15|Second Motherhood                 |\n",
      "|1986-02-22|Adult Education                   |\n",
      "+----------+----------------------------------+\n",
      "only showing top 20 rows\n",
      "\n"
     ]
    }
   ],
   "source": [
    "# Another option:\n",
    "\n",
    "all_shows.withColumn(\n",
    "    'airdate_and_name', \n",
    "    F.explode(F.arrays_zip('_embedded.episodes.airdate', '_embedded.episodes.name'))\n",
    ").select('airdate_and_name.*') \\\n",
    "    .show(truncate=False)"
   ]
  },
  {
   "cell_type": "markdown",
   "id": "77a4a052-5b17-4546-84a4-4c5668bd3904",
   "metadata": {},
   "source": [
    "#### Exercise 6.8\n",
    "\n",
    "Given the following data frame, create a new data frame that contains a single map from one to square:\n",
    "\n",
    "```python\n",
    "exo6_8 = spark.createDataFrame([[1, 2], [2, 4], [3, 9]], [\"one\", \"square\"])\n",
    "```"
   ]
  },
  {
   "cell_type": "code",
   "execution_count": 25,
   "id": "9918fee9-d135-48e3-96b4-3a33f9ddc2e4",
   "metadata": {},
   "outputs": [
    {
     "name": "stdout",
     "output_type": "stream",
     "text": [
      "+---+------+\n",
      "|one|square|\n",
      "+---+------+\n",
      "|  1|     2|\n",
      "|  2|     4|\n",
      "|  3|     9|\n",
      "+---+------+\n",
      "\n"
     ]
    }
   ],
   "source": [
    "exo6_8 = spark.createDataFrame([[1, 2], [2, 4], [3, 9]], [\"one\", \"square\"])\n",
    "\n",
    "exo6_8.show()"
   ]
  },
  {
   "cell_type": "code",
   "execution_count": 26,
   "id": "190b7280-d147-4c81-ba3c-ea10ef4fe5f6",
   "metadata": {},
   "outputs": [
    {
     "name": "stdout",
     "output_type": "stream",
     "text": [
      "+------------------------+\n",
      "|map                     |\n",
      "+------------------------+\n",
      "|{1 -> 2, 2 -> 4, 3 -> 9}|\n",
      "+------------------------+\n",
      "\n"
     ]
    }
   ],
   "source": [
    "exo6_8.select(\n",
    "    F.map_from_arrays(F.collect_list('one'), F.collect_list('square')) \\\n",
    "        .alias('map')\n",
    ").show(truncate=False)"
   ]
  },
  {
   "cell_type": "code",
   "execution_count": null,
   "id": "bc337420",
   "metadata": {},
   "outputs": [],
   "source": [
    "spark.stop()"
   ]
  }
 ],
 "metadata": {
  "kernelspec": {
   "display_name": "base",
   "language": "python",
   "name": "python3"
  },
  "language_info": {
   "codemirror_mode": {
    "name": "ipython",
    "version": 3
   },
   "file_extension": ".py",
   "mimetype": "text/x-python",
   "name": "python",
   "nbconvert_exporter": "python",
   "pygments_lexer": "ipython3",
   "version": "3.9.15"
  },
  "vscode": {
   "interpreter": {
    "hash": "d76f782f9e2bb336f39952c692d78dbf55a20fd2f5486713d2fa651d7c15ab40"
   }
  }
 },
 "nbformat": 4,
 "nbformat_minor": 5
}
